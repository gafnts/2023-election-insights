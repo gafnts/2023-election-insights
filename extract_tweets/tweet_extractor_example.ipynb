{
 "cells": [
  {
   "cell_type": "markdown",
   "metadata": {},
   "source": [
    "# Test"
   ]
  },
  {
   "cell_type": "code",
   "execution_count": null,
   "metadata": {},
   "outputs": [],
   "source": [
    "import os\n",
    "os.chdir('..')\n",
    "\n",
    "import json\n",
    "import tweepy\n",
    "from modules import TwitterAuthentication\n",
    "twitter = TwitterAuthentication()"
   ]
  },
  {
   "attachments": {},
   "cell_type": "markdown",
   "metadata": {},
   "source": [
    "## Metadata based on tweet ID"
   ]
  },
  {
   "cell_type": "code",
   "execution_count": null,
   "metadata": {},
   "outputs": [],
   "source": [
    "# Set your API keys and access tokens\n",
    "API_KEY = twitter.api_key\n",
    "API_SECRET_KEY = twitter.api_key_secret\n",
    "BEARER_TOKEN = twitter.bearer_token\n",
    "\n",
    "# Authenticate with Tweepy\n",
    "auth = tweepy.AppAuthHandler(API_KEY, API_SECRET_KEY)\n",
    "\n",
    "# Initialize Tweepy API client with the authentication handler\n",
    "api = tweepy.Client(bearer_token=BEARER_TOKEN)\n",
    "\n",
    "# Function to fetch a tweet with its expanded fields\n",
    "def get_tweet_with_expanded_fields(tweet_id):\n",
    "    tweet = api.get_tweet(\n",
    "        tweet_id,\n",
    "        tweet_fields=[\n",
    "            \"attachments\", \"author_id\", \"context_annotations\", \"created_at\",\n",
    "            \"entities\", \"geo\", \"id\", \"in_reply_to_user_id\", \"lang\",\n",
    "            \"possibly_sensitive\", \"public_metrics\", \"referenced_tweets\",\n",
    "            \"source\", \"text\", \"withheld\"\n",
    "        ],\n",
    "        expansions=[\"referenced_tweets.id\"]\n",
    "    )\n",
    "\n",
    "    return tweet\n",
    "\n",
    "# Example usage\n",
    "tweet_id = \"1212092628029698048\"\n",
    "tweet_data = get_tweet_with_expanded_fields(tweet_id)\n",
    "print(tweet_data)\n"
   ]
  },
  {
   "cell_type": "code",
   "execution_count": null,
   "metadata": {},
   "outputs": [],
   "source": [
    "# Extract data from the tweet\n",
    "tweet_text = tweet_data.data.text\n",
    "tweet_author_id = tweet_data.data.author_id\n",
    "tweet_created_at = tweet_data.data.created_at\n",
    "tweet_source = tweet_data.data.source"
   ]
  },
  {
   "cell_type": "code",
   "execution_count": null,
   "metadata": {},
   "outputs": [],
   "source": [
    "print(tweet_text)"
   ]
  },
  {
   "cell_type": "code",
   "execution_count": null,
   "metadata": {},
   "outputs": [],
   "source": [
    "print(tweet_created_at)"
   ]
  },
  {
   "attachments": {},
   "cell_type": "markdown",
   "metadata": {},
   "source": [
    "## Ingest tweets based on a specific query"
   ]
  },
  {
   "cell_type": "code",
   "execution_count": null,
   "metadata": {},
   "outputs": [],
   "source": [
    "import requests\n",
    "\n",
    "BEARER_TOKEN = twitter.bearer_token\n",
    "\n",
    "def create_headers(bearer_token):\n",
    "    headers = {\"Authorization\": f\"Bearer {bearer_token}\"}\n",
    "    return headers\n",
    "\n",
    "def search_tweets(headers, url):\n",
    "    response = requests.get(url, headers=headers)\n",
    "    if response.status_code != 200:\n",
    "        raise Exception(f\"Error {response.status_code}: {response.text}\")\n",
    "    return response.json()\n"
   ]
  },
  {
   "cell_type": "code",
   "execution_count": null,
   "metadata": {},
   "outputs": [],
   "source": [
    "def create_url(query, max_results=10):\n",
    "    url = f\"https://api.twitter.com/2/tweets/search/recent?query={query}&max_results={max_results}&tweet.fields=created_at,public_metrics,lang&expansions=author_id&user.fields=username\"\n",
    "    return url\n",
    "\n",
    "def main():\n",
    "    headers = create_headers(BEARER_TOKEN)\n",
    "    query = \"Sandra Torres\"\n",
    "    url = create_url(query)\n",
    "    json_response = search_tweets(headers, url)\n",
    "\n",
    "    for tweet in json_response[\"data\"]:\n",
    "        print(f\"Tweet ID: {tweet['id']}\")\n",
    "        print(f\"Tweet Text: {tweet['text']}\")\n",
    "        print(f\"Tweet Created At: {tweet['created_at']}\")\n",
    "        print(f\"Retweets: {tweet['public_metrics']['retweet_count']}\")\n",
    "        print(f\"Likes: {tweet['public_metrics']['like_count']}\")\n",
    "        print(f\"Replies: {tweet['public_metrics']['reply_count']}\")\n",
    "        print(f\"Quote Counts: {tweet['public_metrics']['quote_count']}\")\n",
    "        print(\"------------\")"
   ]
  },
  {
   "cell_type": "code",
   "execution_count": null,
   "metadata": {},
   "outputs": [],
   "source": [
    "main()"
   ]
  },
  {
   "cell_type": "code",
   "execution_count": null,
   "metadata": {},
   "outputs": [],
   "source": []
  }
 ],
 "metadata": {
  "kernelspec": {
   "display_name": "ml39",
   "language": "python",
   "name": "python3"
  },
  "language_info": {
   "codemirror_mode": {
    "name": "ipython",
    "version": 3
   },
   "file_extension": ".py",
   "mimetype": "text/x-python",
   "name": "python",
   "nbconvert_exporter": "python",
   "pygments_lexer": "ipython3",
   "version": "3.11.3"
  },
  "orig_nbformat": 4
 },
 "nbformat": 4,
 "nbformat_minor": 2
}
