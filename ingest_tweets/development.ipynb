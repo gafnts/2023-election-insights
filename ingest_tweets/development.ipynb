{
 "cells": [
  {
   "attachments": {},
   "cell_type": "markdown",
   "metadata": {},
   "source": [
    "# Development\n",
    "\n",
    "Agreement and policy: https://developer.twitter.com/en/developer-terms/agreement-and-policy"
   ]
  },
  {
   "cell_type": "code",
   "execution_count": 2,
   "metadata": {},
   "outputs": [],
   "source": [
    "import os\n",
    "os.chdir('..')\n",
    "\n",
    "from modules import TwitterDataCleaner, get_tweets"
   ]
  },
  {
   "attachments": {},
   "cell_type": "markdown",
   "metadata": {},
   "source": [
    "## Get tweets"
   ]
  },
  {
   "cell_type": "code",
   "execution_count": null,
   "metadata": {},
   "outputs": [],
   "source": [
    "query = 'sandra torres'\n",
    "start_time = \"2023-04-26T00:00:00Z\" \n",
    "end_time = \"2023-04-30T00:00:00Z\" \n",
    "max_results = 10\n",
    "\n",
    "tweets_call = get_tweets(\n",
    "    query=query,\n",
    "    start_time=start_time,\n",
    "    end_time=end_time,\n",
    "    max_results=max_results,\n",
    ")\n",
    "\n",
    "data_cleaner = TwitterDataCleaner(tweets_call)\n",
    "tweets, users = data_cleaner.run()"
   ]
  },
  {
   "cell_type": "code",
   "execution_count": 7,
   "metadata": {},
   "outputs": [
    {
     "data": {
      "text/html": [
       "<div>\n",
       "<style scoped>\n",
       "    .dataframe tbody tr th:only-of-type {\n",
       "        vertical-align: middle;\n",
       "    }\n",
       "\n",
       "    .dataframe tbody tr th {\n",
       "        vertical-align: top;\n",
       "    }\n",
       "\n",
       "    .dataframe thead th {\n",
       "        text-align: right;\n",
       "    }\n",
       "</style>\n",
       "<table border=\"1\" class=\"dataframe\">\n",
       "  <thead>\n",
       "    <tr style=\"text-align: right;\">\n",
       "      <th></th>\n",
       "      <th>tw_tweet</th>\n",
       "      <th>tw_usuario</th>\n",
       "      <th>tw_fecha</th>\n",
       "      <th>tw_texto</th>\n",
       "      <th>tw_sensitivo</th>\n",
       "      <th>tw_retweets</th>\n",
       "      <th>tw_replies</th>\n",
       "      <th>tw_likes</th>\n",
       "      <th>tw_quotes</th>\n",
       "      <th>tw_impresiones</th>\n",
       "      <th>tw_idioma</th>\n",
       "    </tr>\n",
       "  </thead>\n",
       "  <tbody>\n",
       "    <tr>\n",
       "      <th>0</th>\n",
       "      <td>1652458622545264642</td>\n",
       "      <td>1520585767831195648</td>\n",
       "      <td>2023-04-29</td>\n",
       "      <td>la sandra torres está afuera de mi colonia 💀</td>\n",
       "      <td>False</td>\n",
       "      <td>0</td>\n",
       "      <td>6</td>\n",
       "      <td>2</td>\n",
       "      <td>1</td>\n",
       "      <td>950</td>\n",
       "      <td>es</td>\n",
       "    </tr>\n",
       "    <tr>\n",
       "      <th>1</th>\n",
       "      <td>1652457235832766465</td>\n",
       "      <td>1138919980974653441</td>\n",
       "      <td>2023-04-29</td>\n",
       "      <td>Acabo de ver un vídeo de Sandra Torres utiliza...</td>\n",
       "      <td>False</td>\n",
       "      <td>0</td>\n",
       "      <td>2</td>\n",
       "      <td>2</td>\n",
       "      <td>0</td>\n",
       "      <td>250</td>\n",
       "      <td>es</td>\n",
       "    </tr>\n",
       "    <tr>\n",
       "      <th>2</th>\n",
       "      <td>1652451650622169088</td>\n",
       "      <td>1542768481237716992</td>\n",
       "      <td>2023-04-29</td>\n",
       "      <td>Hoy vi a Sandra Torres y es mas hermosa en per...</td>\n",
       "      <td>False</td>\n",
       "      <td>0</td>\n",
       "      <td>0</td>\n",
       "      <td>3</td>\n",
       "      <td>0</td>\n",
       "      <td>97</td>\n",
       "      <td>es</td>\n",
       "    </tr>\n",
       "    <tr>\n",
       "      <th>3</th>\n",
       "      <td>1652441341064781826</td>\n",
       "      <td>966583284</td>\n",
       "      <td>2023-04-29</td>\n",
       "      <td>La candidata a la primera magistratura del paí...</td>\n",
       "      <td>False</td>\n",
       "      <td>0</td>\n",
       "      <td>0</td>\n",
       "      <td>0</td>\n",
       "      <td>0</td>\n",
       "      <td>64</td>\n",
       "      <td>es</td>\n",
       "    </tr>\n",
       "    <tr>\n",
       "      <th>4</th>\n",
       "      <td>1652418255796019205</td>\n",
       "      <td>1333266047500161024</td>\n",
       "      <td>2023-04-29</td>\n",
       "      <td>Dime qué quieres que vote por Sandra Torres si...</td>\n",
       "      <td>False</td>\n",
       "      <td>1</td>\n",
       "      <td>0</td>\n",
       "      <td>4</td>\n",
       "      <td>0</td>\n",
       "      <td>275</td>\n",
       "      <td>es</td>\n",
       "    </tr>\n",
       "  </tbody>\n",
       "</table>\n",
       "</div>"
      ],
      "text/plain": [
       "              tw_tweet           tw_usuario    tw_fecha   \n",
       "0  1652458622545264642  1520585767831195648  2023-04-29  \\\n",
       "1  1652457235832766465  1138919980974653441  2023-04-29   \n",
       "2  1652451650622169088  1542768481237716992  2023-04-29   \n",
       "3  1652441341064781826            966583284  2023-04-29   \n",
       "4  1652418255796019205  1333266047500161024  2023-04-29   \n",
       "\n",
       "                                            tw_texto  tw_sensitivo   \n",
       "0       la sandra torres está afuera de mi colonia 💀         False  \\\n",
       "1  Acabo de ver un vídeo de Sandra Torres utiliza...         False   \n",
       "2  Hoy vi a Sandra Torres y es mas hermosa en per...         False   \n",
       "3  La candidata a la primera magistratura del paí...         False   \n",
       "4  Dime qué quieres que vote por Sandra Torres si...         False   \n",
       "\n",
       "   tw_retweets  tw_replies  tw_likes  tw_quotes  tw_impresiones tw_idioma  \n",
       "0            0           6         2          1             950        es  \n",
       "1            0           2         2          0             250        es  \n",
       "2            0           0         3          0              97        es  \n",
       "3            0           0         0          0              64        es  \n",
       "4            1           0         4          0             275        es  "
      ]
     },
     "execution_count": 7,
     "metadata": {},
     "output_type": "execute_result"
    }
   ],
   "source": [
    "tweets.head()"
   ]
  },
  {
   "attachments": {},
   "cell_type": "markdown",
   "metadata": {},
   "source": [
    "## Zero-shot feature extraction with GTP-3.5"
   ]
  },
  {
   "cell_type": "code",
   "execution_count": 9,
   "metadata": {},
   "outputs": [],
   "source": [
    "import re\n",
    "import openai\n",
    "from authenticators import OpenAIAuthenticator\n",
    "\n",
    "gpt = OpenAIAuthenticator()\n",
    "openai.api_key = gpt.api_key"
   ]
  },
  {
   "cell_type": "code",
   "execution_count": 13,
   "metadata": {},
   "outputs": [],
   "source": [
    "def preprocess_text(text):\n",
    "    # Remove URLs\n",
    "    url_pattern = re.compile(r'http[s]?://(?:[a-zA-Z]|[0-9]|[$-_@.&+]|[!*\\\\(\\\\),]|(?:%[0-9a-fA-F][0-9a-fA-F]))+')\n",
    "    text = url_pattern.sub('', text)\n",
    "\n",
    "    # Remove emojis\n",
    "    emoji_pattern = re.compile(\n",
    "        \"[\"\n",
    "        u\"\\U0001F600-\\U0001F64F\"  # Emoticons\n",
    "        u\"\\U0001F300-\\U0001F5FF\"  # Symbols & pictographs\n",
    "        u\"\\U0001F680-\\U0001F6FF\"  # Transport & map symbols\n",
    "        u\"\\U0001F1E0-\\U0001F1FF\"  # Flags (iOS)\n",
    "        u\"\\U00002702-\\U000027B0\"\n",
    "        u\"\\U000024C2-\\U0001F251\"\n",
    "        \"]+\",\n",
    "        flags=re.UNICODE,\n",
    "    )\n",
    "    text = emoji_pattern.sub('', text)\n",
    "\n",
    "    # Remove newline characters\n",
    "    text = text.replace('\\n', ' ')\n",
    "\n",
    "    return text"
   ]
  },
  {
   "cell_type": "code",
   "execution_count": 14,
   "metadata": {},
   "outputs": [
    {
     "data": {
      "text/plain": [
       "'El antivoto no es para Sandra Torres, el antivoto es para la izquierda, Sandra es de la Internacional Socialista, hasta fue su presidenta, de quedar otro partido de izquierda para segunda vuelta, se lleva el antivoto. '"
      ]
     },
     "execution_count": 14,
     "metadata": {},
     "output_type": "execute_result"
    }
   ],
   "source": [
    "example = tweets.tw_texto[9]\n",
    "\n",
    "tweet = preprocess_text(example)\n",
    "tweet"
   ]
  },
  {
   "cell_type": "code",
   "execution_count": null,
   "metadata": {},
   "outputs": [],
   "source": [
    "prompt = f\"\"\"\n",
    "El siguiente es un tweet en español. Por favor, clasificalo de acuerdo a las siguientes categorías:\n",
    "\n",
    "Valencia: [positivo, negativo, neutral]\n",
    "Emoción: [felicidad, tristeza, enojo, miedo, sorpresa, disgusto, neutral]\n",
    "Postura: [aprobación, desaprobación, esperanza, desilusión, indiferencia, condianza, desconfianza]\n",
    "Tono: [agresivo, pasivo, asertivo, escéptico, irónico, humorístico, informativo, serio, inspiridor, otro]\n",
    "Tema: [política, economía, deportes, entretenimiento, tecnología, ciencia, salud, educación, religión, cultura, medio ambiente, otro]\n",
    "\n",
    "Además, evalúalo utilizando una escala continua con rango de 0 a 1 en las siguientes dimensiones:\n",
    "\n",
    "Amabilidad: [0.0 - 1.0]\n",
    "Legibilidad: [0.0 - 1.0]\n",
    "Controversialidad: [0.0 - 1.0]\n",
    "Informatividad: [0.0 - 1.0]\n",
    "Espectro político: [0.0 - 1.0] (0 = izquierda, 1 = derecha)\n",
    "\n",
    "Formatea tu respuesta como un diccionario de Python con las siguientes llaves:\n",
    "\n",
    "[valencia, emocion, postura, tono, tema, amabilidad, legibilidad, controversialidad, informatividad]\n",
    "\n",
    "Tweet: '''{tweet}'''\n",
    "\"\"\""
   ]
  },
  {
   "cell_type": "code",
   "execution_count": null,
   "metadata": {},
   "outputs": [],
   "source": [
    "def get_completion(prompt, model=\"gpt-3.5-turbo\", temperature=0): \n",
    "    messages = [{\"role\": \"user\", \"content\": prompt}]\n",
    "    response = openai.ChatCompletion.create(\n",
    "        model=model,\n",
    "        messages=messages,\n",
    "        temperature=temperature, \n",
    "    )\n",
    "    return response.choices[0].message[\"content\"]"
   ]
  },
  {
   "cell_type": "code",
   "execution_count": null,
   "metadata": {},
   "outputs": [],
   "source": [
    "test = get_completion(prompt, temperature=0)\n",
    "test = test.replace('\\n', ' ')"
   ]
  },
  {
   "cell_type": "code",
   "execution_count": null,
   "metadata": {},
   "outputs": [],
   "source": [
    "import json\n",
    "dict = json.loads(test)\n",
    "dict"
   ]
  },
  {
   "cell_type": "code",
   "execution_count": null,
   "metadata": {},
   "outputs": [],
   "source": [
    "pd.DataFrame(dict, index=[0])"
   ]
  },
  {
   "attachments": {},
   "cell_type": "markdown",
   "metadata": {},
   "source": [
    "## Store them in a RDS instance"
   ]
  },
  {
   "cell_type": "code",
   "execution_count": null,
   "metadata": {},
   "outputs": [],
   "source": []
  },
  {
   "cell_type": "code",
   "execution_count": null,
   "metadata": {},
   "outputs": [],
   "source": [
    "cursor.close()\n",
    "connection.close()"
   ]
  },
  {
   "cell_type": "code",
   "execution_count": null,
   "metadata": {},
   "outputs": [],
   "source": [
    "# Create a sample DataFrame\n",
    "data = {\n",
    "    'column1': [1, 2, 3],\n",
    "    'column2': ['A', 'B', 'C']\n",
    "}\n",
    "df = pd.DataFrame(data)\n",
    "\n",
    "# Upload the DataFrame to your PostgreSQL instance\n",
    "# Replace \"your_table_name\" with the desired table name\n",
    "df.to_sql('your_table_name', engine, if_exists='replace', index=False)\n"
   ]
  }
 ],
 "metadata": {
  "kernelspec": {
   "display_name": "ml39",
   "language": "python",
   "name": "python3"
  },
  "language_info": {
   "codemirror_mode": {
    "name": "ipython",
    "version": 3
   },
   "file_extension": ".py",
   "mimetype": "text/x-python",
   "name": "python",
   "nbconvert_exporter": "python",
   "pygments_lexer": "ipython3",
   "version": "3.10.11"
  },
  "orig_nbformat": 4
 },
 "nbformat": 4,
 "nbformat_minor": 2
}
