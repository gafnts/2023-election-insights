{
 "cells": [
  {
   "attachments": {},
   "cell_type": "markdown",
   "metadata": {},
   "source": [
    "# Development\n",
    "\n",
    "Agreement and policy: https://developer.twitter.com/en/developer-terms/agreement-and-policy"
   ]
  },
  {
   "cell_type": "code",
   "execution_count": null,
   "metadata": {},
   "outputs": [],
   "source": [
    "import os\n",
    "os.chdir('..')\n",
    "\n",
    "import tweepy\n",
    "import openai\n",
    "import requests\n",
    "import psycopg2\n",
    "import pandas as pd\n",
    "\n",
    "from authenticators import (\n",
    "    TwitterAuthenticator, OpenAIAuthenticator, RDSAuthenticator\n",
    ")\n",
    "\n",
    "twitter = TwitterAuthenticator()\n",
    "client = tweepy.Client(bearer_token=twitter.bearer_token)\n",
    "\n",
    "gpt = OpenAIAuthenticator()\n",
    "openai.api_key = gpt.api_key\n",
    "\n",
    "rds = RDSAuthenticator()\n",
    "connection = psycopg2.connect(\n",
    "    host = rds.host,\n",
    "    port = rds.port,\n",
    "    database= rds.database,\n",
    "    user = rds.user,\n",
    "    password = rds.password\n",
    ")\n",
    "connection.autocommit = True\n",
    "cursor = connection.cursor()"
   ]
  },
  {
   "cell_type": "code",
   "execution_count": 2,
   "metadata": {},
   "outputs": [],
   "source": [
    "import os\n",
    "os.chdir('..')\n",
    "\n",
    "from modules import TwitterDataCleaner, get_tweets\n",
    "\n",
    "query = 'sandra torres'\n",
    "start_time = \"2023-04-26T00:00:00Z\" \n",
    "end_time = \"2023-04-30T00:00:00Z\" \n",
    "max_results = 10\n",
    "\n",
    "tweets_call = get_tweets(\n",
    "    query=query,\n",
    "    start_time=start_time,\n",
    "    end_time=end_time,\n",
    "    max_results=max_results,\n",
    ")\n",
    "\n",
    "data_cleaner = TwitterDataCleaner(tweets_call)\n",
    "tweets, users = data_cleaner.run()"
   ]
  },
  {
   "cell_type": "code",
   "execution_count": 4,
   "metadata": {},
   "outputs": [
    {
     "data": {
      "text/html": [
       "<div>\n",
       "<style scoped>\n",
       "    .dataframe tbody tr th:only-of-type {\n",
       "        vertical-align: middle;\n",
       "    }\n",
       "\n",
       "    .dataframe tbody tr th {\n",
       "        vertical-align: top;\n",
       "    }\n",
       "\n",
       "    .dataframe thead th {\n",
       "        text-align: right;\n",
       "    }\n",
       "</style>\n",
       "<table border=\"1\" class=\"dataframe\">\n",
       "  <thead>\n",
       "    <tr style=\"text-align: right;\">\n",
       "      <th></th>\n",
       "      <th>tw_tweet</th>\n",
       "      <th>tw_usuario</th>\n",
       "      <th>tw_fecha</th>\n",
       "      <th>tw_texto</th>\n",
       "      <th>tw_sensitivo</th>\n",
       "      <th>tw_retweets</th>\n",
       "      <th>tw_replies</th>\n",
       "      <th>tw_likes</th>\n",
       "      <th>tw_quotes</th>\n",
       "      <th>tw_impresiones</th>\n",
       "      <th>tw_idioma</th>\n",
       "    </tr>\n",
       "  </thead>\n",
       "  <tbody>\n",
       "    <tr>\n",
       "      <th>5</th>\n",
       "      <td>1652403078455328768</td>\n",
       "      <td>221932544</td>\n",
       "      <td>2023-04-29</td>\n",
       "      <td>Durante su visita a Chichicastenango, Quiché, ...</td>\n",
       "      <td>False</td>\n",
       "      <td>94</td>\n",
       "      <td>103</td>\n",
       "      <td>181</td>\n",
       "      <td>4</td>\n",
       "      <td>18786</td>\n",
       "      <td>es</td>\n",
       "    </tr>\n",
       "    <tr>\n",
       "      <th>6</th>\n",
       "      <td>1652387604652781569</td>\n",
       "      <td>1095086472389111811</td>\n",
       "      <td>2023-04-29</td>\n",
       "      <td>¿Quitar el IVA a los medicamentos? 💵💊\\n\\nEsta ...</td>\n",
       "      <td>False</td>\n",
       "      <td>2</td>\n",
       "      <td>1</td>\n",
       "      <td>6</td>\n",
       "      <td>1</td>\n",
       "      <td>522</td>\n",
       "      <td>es</td>\n",
       "    </tr>\n",
       "    <tr>\n",
       "      <th>7</th>\n",
       "      <td>1652369298260623364</td>\n",
       "      <td>1561217740920193029</td>\n",
       "      <td>2023-04-29</td>\n",
       "      <td>quítenle el tiktok a sandra torres</td>\n",
       "      <td>False</td>\n",
       "      <td>0</td>\n",
       "      <td>0</td>\n",
       "      <td>1</td>\n",
       "      <td>0</td>\n",
       "      <td>19</td>\n",
       "      <td>es</td>\n",
       "    </tr>\n",
       "    <tr>\n",
       "      <th>8</th>\n",
       "      <td>1652358326955458560</td>\n",
       "      <td>1098537742349320193</td>\n",
       "      <td>2023-04-29</td>\n",
       "      <td>🗣️ Na Renova, em Torres Novas, a deputada Sand...</td>\n",
       "      <td>False</td>\n",
       "      <td>0</td>\n",
       "      <td>1</td>\n",
       "      <td>5</td>\n",
       "      <td>0</td>\n",
       "      <td>146</td>\n",
       "      <td>pt</td>\n",
       "    </tr>\n",
       "    <tr>\n",
       "      <th>9</th>\n",
       "      <td>1652356666929606657</td>\n",
       "      <td>1420560045323038720</td>\n",
       "      <td>2023-04-29</td>\n",
       "      <td>El antivoto no es para Sandra Torres, el antiv...</td>\n",
       "      <td>False</td>\n",
       "      <td>0</td>\n",
       "      <td>0</td>\n",
       "      <td>0</td>\n",
       "      <td>0</td>\n",
       "      <td>14</td>\n",
       "      <td>es</td>\n",
       "    </tr>\n",
       "  </tbody>\n",
       "</table>\n",
       "</div>"
      ],
      "text/plain": [
       "              tw_tweet           tw_usuario    tw_fecha   \n",
       "5  1652403078455328768            221932544  2023-04-29  \\\n",
       "6  1652387604652781569  1095086472389111811  2023-04-29   \n",
       "7  1652369298260623364  1561217740920193029  2023-04-29   \n",
       "8  1652358326955458560  1098537742349320193  2023-04-29   \n",
       "9  1652356666929606657  1420560045323038720  2023-04-29   \n",
       "\n",
       "                                            tw_texto  tw_sensitivo   \n",
       "5  Durante su visita a Chichicastenango, Quiché, ...         False  \\\n",
       "6  ¿Quitar el IVA a los medicamentos? 💵💊\\n\\nEsta ...         False   \n",
       "7                 quítenle el tiktok a sandra torres         False   \n",
       "8  🗣️ Na Renova, em Torres Novas, a deputada Sand...         False   \n",
       "9  El antivoto no es para Sandra Torres, el antiv...         False   \n",
       "\n",
       "   tw_retweets  tw_replies  tw_likes  tw_quotes  tw_impresiones tw_idioma  \n",
       "5           94         103       181          4           18786        es  \n",
       "6            2           1         6          1             522        es  \n",
       "7            0           0         1          0              19        es  \n",
       "8            0           1         5          0             146        pt  \n",
       "9            0           0         0          0              14        es  "
      ]
     },
     "execution_count": 4,
     "metadata": {},
     "output_type": "execute_result"
    }
   ],
   "source": [
    "tweets.tail()"
   ]
  },
  {
   "attachments": {},
   "cell_type": "markdown",
   "metadata": {},
   "source": [
    "¿En qué necesito pensar?\n",
    "\n",
    "- Conectarme a RDS\n",
    "- Esquema para extraer datos uniformemente durante los últimos 7 días\n",
    "- Establecer qué políticos tomar en cuenta. Scrape the list from here: https://es.wikipedia.org/wiki/Elecciones_generales_de_Guatemala_de_2023\n",
    "- ¿Guardar los datos en una base de datos SQL local?\n"
   ]
  },
  {
   "attachments": {},
   "cell_type": "markdown",
   "metadata": {},
   "source": [
    "## Zero-shot feature extraction with GTP-3.5"
   ]
  },
  {
   "cell_type": "code",
   "execution_count": null,
   "metadata": {},
   "outputs": [],
   "source": [
    "import re\n",
    "\n",
    "def remove_emojis_and_links(text):\n",
    "    # Remove URLs\n",
    "    url_pattern = re.compile(r'http[s]?://(?:[a-zA-Z]|[0-9]|[$-_@.&+]|[!*\\\\(\\\\),]|(?:%[0-9a-fA-F][0-9a-fA-F]))+')\n",
    "    text = url_pattern.sub('', text)\n",
    "\n",
    "    # Remove emojis\n",
    "    emoji_pattern = re.compile(\n",
    "        \"[\"\n",
    "        u\"\\U0001F600-\\U0001F64F\"  # Emoticons\n",
    "        u\"\\U0001F300-\\U0001F5FF\"  # Symbols & pictographs\n",
    "        u\"\\U0001F680-\\U0001F6FF\"  # Transport & map symbols\n",
    "        u\"\\U0001F1E0-\\U0001F1FF\"  # Flags (iOS)\n",
    "        u\"\\U00002702-\\U000027B0\"\n",
    "        u\"\\U000024C2-\\U0001F251\"\n",
    "        \"]+\",\n",
    "        flags=re.UNICODE,\n",
    "    )\n",
    "    text = emoji_pattern.sub('', text)\n",
    "\n",
    "    # Remove newline characters\n",
    "    text = text.replace('\\n', ' ')\n",
    "\n",
    "    return text"
   ]
  },
  {
   "cell_type": "code",
   "execution_count": null,
   "metadata": {},
   "outputs": [],
   "source": [
    "example = tweets.text[9]\n",
    "\n",
    "tweet = remove_emojis_and_links(example)\n",
    "tweet"
   ]
  },
  {
   "cell_type": "code",
   "execution_count": null,
   "metadata": {},
   "outputs": [],
   "source": [
    "prompt = f\"\"\"\n",
    "El siguiente es un tweet en español. Por favor, clasificalo de acuerdo a las siguientes categorías:\n",
    "\n",
    "Valencia: [positivo, negativo, neutral]\n",
    "Emoción: [felicidad, tristeza, enojo, miedo, sorpresa, disgusto, neutral]\n",
    "Postura: [aprobación, desaprobación, esperanza, desilusión, indiferencia, condianza, desconfianza]\n",
    "Tono: [agresivo, pasivo, asertivo, escéptico, irónico, humorístico, informativo, serio, inspiridor, otro]\n",
    "Tema: [política, economía, deportes, entretenimiento, tecnología, ciencia, salud, educación, religión, cultura, medio ambiente, otro]\n",
    "\n",
    "Además, evalúalo utilizando una escala continua con rango de 0 a 1 en las siguientes dimensiones:\n",
    "\n",
    "Amabilidad: [0.0 - 1.0]\n",
    "Legibilidad: [0.0 - 1.0]\n",
    "Controversialidad: [0.0 - 1.0]\n",
    "Informatividad: [0.0 - 1.0]\n",
    "Espectro político: [0.0 - 1.0] (0 = izquierda, 1 = derecha)\n",
    "\n",
    "Formatea tu respuesta como un diccionario de Python con las siguientes llaves:\n",
    "\n",
    "[valencia, emocion, postura, tono, tema, amabilidad, legibilidad, controversialidad, informatividad]\n",
    "\n",
    "Tweet: '''{tweet}'''\n",
    "\"\"\""
   ]
  },
  {
   "cell_type": "code",
   "execution_count": null,
   "metadata": {},
   "outputs": [],
   "source": [
    "def get_completion(prompt, model=\"gpt-3.5-turbo\", temperature=0): \n",
    "    messages = [{\"role\": \"user\", \"content\": prompt}]\n",
    "    response = openai.ChatCompletion.create(\n",
    "        model=model,\n",
    "        messages=messages,\n",
    "        temperature=temperature, \n",
    "    )\n",
    "    return response.choices[0].message[\"content\"]"
   ]
  },
  {
   "cell_type": "code",
   "execution_count": null,
   "metadata": {},
   "outputs": [],
   "source": [
    "test = get_completion(prompt, temperature=0)\n",
    "test = test.replace('\\n', ' ')"
   ]
  },
  {
   "cell_type": "code",
   "execution_count": null,
   "metadata": {},
   "outputs": [],
   "source": [
    "import json\n",
    "dict = json.loads(test)\n",
    "dict"
   ]
  },
  {
   "cell_type": "code",
   "execution_count": null,
   "metadata": {},
   "outputs": [],
   "source": [
    "pd.DataFrame(dict, index=[0])"
   ]
  },
  {
   "attachments": {},
   "cell_type": "markdown",
   "metadata": {},
   "source": [
    "## Store them in a RDS instance"
   ]
  },
  {
   "cell_type": "code",
   "execution_count": null,
   "metadata": {},
   "outputs": [],
   "source": []
  },
  {
   "cell_type": "code",
   "execution_count": null,
   "metadata": {},
   "outputs": [],
   "source": [
    "cursor.close()\n",
    "connection.close()"
   ]
  },
  {
   "cell_type": "code",
   "execution_count": null,
   "metadata": {},
   "outputs": [],
   "source": [
    "# Create a sample DataFrame\n",
    "data = {\n",
    "    'column1': [1, 2, 3],\n",
    "    'column2': ['A', 'B', 'C']\n",
    "}\n",
    "df = pd.DataFrame(data)\n",
    "\n",
    "# Upload the DataFrame to your PostgreSQL instance\n",
    "# Replace \"your_table_name\" with the desired table name\n",
    "df.to_sql('your_table_name', engine, if_exists='replace', index=False)\n"
   ]
  },
  {
   "attachments": {},
   "cell_type": "markdown",
   "metadata": {},
   "source": [
    "## Example usage"
   ]
  },
  {
   "cell_type": "code",
   "execution_count": null,
   "metadata": {},
   "outputs": [],
   "source": [
    "query = 'sandra torres'\n",
    "start_time = \"2023-04-25T00:00:00Z\" \n",
    "end_time = \"2023-04-28T00:00:00Z\" \n",
    "max_results = 10\n",
    "\n",
    "tweets_call = get_tweets(\n",
    "    query=query,\n",
    "    start_time=start_time,\n",
    "    end_time=end_time,\n",
    "    max_results=max_results,\n",
    ")\n",
    "\n",
    "data_cleaner = TwitterDataCleaner(tweets_call)\n",
    "tweets, users = data_cleaner.clean()"
   ]
  },
  {
   "cell_type": "code",
   "execution_count": null,
   "metadata": {},
   "outputs": [],
   "source": [
    "tweets.head()"
   ]
  },
  {
   "cell_type": "code",
   "execution_count": null,
   "metadata": {},
   "outputs": [],
   "source": [
    "prefix = \"us_\"\n",
    "\n",
    "users_renamed = (\n",
    "    users.rename(columns={\n",
    "        \"user_id\": f\"{prefix}usuario\",\n",
    "        \"user_username\": f\"{prefix}handle\",\n",
    "        \"user_name\": f\"{prefix}nombre\",\n",
    "        \"user_location\": f\"{prefix}ubicacion\",\n",
    "        \"user_created_at\": f\"{prefix}fecha_creacion\",\n",
    "        \"user_description\": f\"{prefix}descripcion\",\n",
    "        \"user_profile_image_url\": f\"{prefix}imagen\",\n",
    "        \"user_verified\": f\"{prefix}verificado\",\n",
    "        \"user_followers_count\": f\"{prefix}seguidores\",\n",
    "        \"user_following_count\": f\"{prefix}siguiendo\",\n",
    "        \"user_tweet_count\": f\"{prefix}tweets\",\n",
    "        \"user_listed_count\": f\"{prefix}listas\"\n",
    "    })\n",
    "    .assign(us_fecha_creacion = lambda x: pd.to_datetime(x.us_fecha_creacion).dt.date)\n",
    ")\n",
    "\n",
    "users_renamed"
   ]
  },
  {
   "cell_type": "code",
   "execution_count": null,
   "metadata": {},
   "outputs": [],
   "source": [
    "users.head()"
   ]
  },
  {
   "cell_type": "code",
   "execution_count": null,
   "metadata": {},
   "outputs": [],
   "source": []
  }
 ],
 "metadata": {
  "kernelspec": {
   "display_name": "ml39",
   "language": "python",
   "name": "python3"
  },
  "language_info": {
   "codemirror_mode": {
    "name": "ipython",
    "version": 3
   },
   "file_extension": ".py",
   "mimetype": "text/x-python",
   "name": "python",
   "nbconvert_exporter": "python",
   "pygments_lexer": "ipython3",
   "version": "3.10.11"
  },
  "orig_nbformat": 4
 },
 "nbformat": 4,
 "nbformat_minor": 2
}
