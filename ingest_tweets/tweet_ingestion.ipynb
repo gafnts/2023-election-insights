{
 "cells": [
  {
   "attachments": {},
   "cell_type": "markdown",
   "metadata": {},
   "source": [
    "# Test\n",
    "\n",
    "Agreement and policy: https://developer.twitter.com/en/developer-terms/agreement-and-policy"
   ]
  },
  {
   "cell_type": "code",
   "execution_count": 1,
   "metadata": {},
   "outputs": [],
   "source": [
    "import os\n",
    "os.chdir('..')\n",
    "\n",
    "import json\n",
    "import tweepy\n",
    "from modules import TwitterAuthentication\n",
    "twitter = TwitterAuthentication()"
   ]
  },
  {
   "attachments": {},
   "cell_type": "markdown",
   "metadata": {},
   "source": [
    "## Metadata based on tweet ID"
   ]
  },
  {
   "cell_type": "code",
   "execution_count": 8,
   "metadata": {},
   "outputs": [
    {
     "name": "stdout",
     "output_type": "stream",
     "text": [
      "Response(data=[<Tweet id=1652114083280216064 text='@4everDriah okay i’m putting your nephew to sleep then i’m calling  🤞🏽'>, <Tweet id=1652114080323231745 text='@PopCrave okay LORDEEEE'>, <Tweet id=1652114079887048706 text='RT @webflow: Okay, but which one is *the best?*\\n\\nRT for light mode\\nLike for dark mode https://t.co/y7Wer4xjSn'>, <Tweet id=1652114078830149632 text='okay but I got just as excited about my hair stylist requesting to follow me as I did about my lil crush sliding in my dms 😂😮\\u200d💨 I’m all over the place'>, <Tweet id=1652114078398050305 text='Okay but real talk i am being stalked 😃'>, <Tweet id=1652114077706227713 text='RT @pcyvern: okay starting this thread for all my seventeen FML templates here! i will update everything in here as often and as quickly as…'>, <Tweet id=1652114076862906368 text='RT @itoridayo: Okay Hololive City is now the biggest project cover has made so far, they literally collab with the whole Tokyo Dome City, t…'>, <Tweet id=1652114076607160321 text='RT @sugatalus: okay,.,.,, cool cool cool https://t.co/kxfEsfPpiI'>, <Tweet id=1652114076506681346 text=\"@SpookyBeeps that's okay 🫶❤️❤️❤️ he isn't normal either\">, <Tweet id=1652114076313571330 text='@typicalkesh @rnariano not that funny, but okay.'>], includes={'tweets': [<Tweet id=1652113890703032323 text='@jakisofine Yeah call me , cause we got a lot to discuss ‼️ need my favorite sister fr'>, <Tweet id=1651944037627367424 text='First look at Emma Stone in her upcoming film, ‘Poor Things,’ coming to theaters September 8. https://t.co/qTuS7miCOu'>, <Tweet id=1651959653150932994 text='Okay, but which one is *the best?*\\n\\nRT for light mode\\nLike for dark mode https://t.co/y7Wer4xjSn'>, <Tweet id=1652113485097058307 text='TODAY IS A BLESSED DAY MY FRIEND CALLED ME TINY, FRAGILE, AND THIN 😭🙏'>, <Tweet id=1650496866360999942 text='okay starting this thread for all my seventeen FML templates here! i will update everything in here as often and as quickly as i can but just warning i might not be as quick as usual as i have a lot of actual work to get done today too!! but i’ll try my best 🥰 https://t.co/HDQOx7Lgna'>, <Tweet id=1651908131495227392 text='Okay Hololive City is now the biggest project cover has made so far, they literally collab with the whole Tokyo Dome City, this is massive! God i sometimes forget how big they are already 💙 https://t.co/daPFfLhNBQ'>, <Tweet id=1651761821227909121 text='okay,.,.,, cool cool cool https://t.co/kxfEsfPpiI'>, <Tweet id=1652113481108459520 text='@critterclutter I love him. I’m not normal'>, <Tweet id=1652075754262339584 text='@gabecamachoo @rnariano LMFAOOOOO'>]}, errors=[], meta={'newest_id': '1652114083280216064', 'oldest_id': '1652114076313571330', 'result_count': 10, 'next_token': 'b26v89c19zqg8o3fqkfza89p3monpkks97uwo7j570wot'})\n"
     ]
    }
   ],
   "source": [
    "# Set your API keys and access tokens\n",
    "API_KEY = twitter.api_key\n",
    "API_SECRET_KEY = twitter.api_key_secret\n",
    "BEARER_TOKEN = twitter.bearer_token\n",
    "\n",
    "# Initialize Tweepy API client with the authentication handler\n",
    "api = tweepy.Client(bearer_token=BEARER_TOKEN)\n",
    "\n",
    "# Function to fetch a tweet with its expanded fields\n",
    "def get_tweet_with_expanded_fields(query):\n",
    "    tweet = api.search_recent_tweets(\n",
    "        query,\n",
    "        tweet_fields=[\n",
    "            \"attachments\", \"author_id\", \"context_annotations\", \"created_at\",\n",
    "            \"entities\", \"geo\", \"id\", \"in_reply_to_user_id\", \"lang\",\n",
    "            \"possibly_sensitive\", \"public_metrics\", \"referenced_tweets\",\n",
    "            \"source\", \"text\", \"withheld\"\n",
    "        ],\n",
    "        expansions=[\"referenced_tweets.id\"]\n",
    "    )\n",
    "\n",
    "    return tweet\n",
    "\n",
    "# Example usage\n",
    "tweet_id = \"okay\"\n",
    "tweet_data = get_tweet_with_expanded_fields(tweet_id)\n",
    "print(tweet_data)\n"
   ]
  },
  {
   "cell_type": "code",
   "execution_count": 16,
   "metadata": {},
   "outputs": [
    {
     "data": {
      "text/plain": [
       "Response(data=[<Tweet id=1652114083280216064 text='@4everDriah okay i’m putting your nephew to sleep then i’m calling  🤞🏽'>, <Tweet id=1652114080323231745 text='@PopCrave okay LORDEEEE'>, <Tweet id=1652114079887048706 text='RT @webflow: Okay, but which one is *the best?*\\n\\nRT for light mode\\nLike for dark mode https://t.co/y7Wer4xjSn'>, <Tweet id=1652114078830149632 text='okay but I got just as excited about my hair stylist requesting to follow me as I did about my lil crush sliding in my dms 😂😮\\u200d💨 I’m all over the place'>, <Tweet id=1652114078398050305 text='Okay but real talk i am being stalked 😃'>, <Tweet id=1652114077706227713 text='RT @pcyvern: okay starting this thread for all my seventeen FML templates here! i will update everything in here as often and as quickly as…'>, <Tweet id=1652114076862906368 text='RT @itoridayo: Okay Hololive City is now the biggest project cover has made so far, they literally collab with the whole Tokyo Dome City, t…'>, <Tweet id=1652114076607160321 text='RT @sugatalus: okay,.,.,, cool cool cool https://t.co/kxfEsfPpiI'>, <Tweet id=1652114076506681346 text=\"@SpookyBeeps that's okay 🫶❤️❤️❤️ he isn't normal either\">, <Tweet id=1652114076313571330 text='@typicalkesh @rnariano not that funny, but okay.'>], includes={'tweets': [<Tweet id=1652113890703032323 text='@jakisofine Yeah call me , cause we got a lot to discuss ‼️ need my favorite sister fr'>, <Tweet id=1651944037627367424 text='First look at Emma Stone in her upcoming film, ‘Poor Things,’ coming to theaters September 8. https://t.co/qTuS7miCOu'>, <Tweet id=1651959653150932994 text='Okay, but which one is *the best?*\\n\\nRT for light mode\\nLike for dark mode https://t.co/y7Wer4xjSn'>, <Tweet id=1652113485097058307 text='TODAY IS A BLESSED DAY MY FRIEND CALLED ME TINY, FRAGILE, AND THIN 😭🙏'>, <Tweet id=1650496866360999942 text='okay starting this thread for all my seventeen FML templates here! i will update everything in here as often and as quickly as i can but just warning i might not be as quick as usual as i have a lot of actual work to get done today too!! but i’ll try my best 🥰 https://t.co/HDQOx7Lgna'>, <Tweet id=1651908131495227392 text='Okay Hololive City is now the biggest project cover has made so far, they literally collab with the whole Tokyo Dome City, this is massive! God i sometimes forget how big they are already 💙 https://t.co/daPFfLhNBQ'>, <Tweet id=1651761821227909121 text='okay,.,.,, cool cool cool https://t.co/kxfEsfPpiI'>, <Tweet id=1652113481108459520 text='@critterclutter I love him. I’m not normal'>, <Tweet id=1652075754262339584 text='@gabecamachoo @rnariano LMFAOOOOO'>]}, errors=[], meta={'newest_id': '1652114083280216064', 'oldest_id': '1652114076313571330', 'result_count': 10, 'next_token': 'b26v89c19zqg8o3fqkfza89p3monpkks97uwo7j570wot'})"
      ]
     },
     "execution_count": 16,
     "metadata": {},
     "output_type": "execute_result"
    }
   ],
   "source": [
    "tweet_data"
   ]
  },
  {
   "cell_type": "code",
   "execution_count": null,
   "metadata": {},
   "outputs": [],
   "source": [
    "# Extract data from the tweet\n",
    "tweet_text = tweet_data.data.text\n",
    "tweet_author_id = tweet_data.data.author_id\n",
    "tweet_created_at = tweet_data.data.created_at\n",
    "tweet_source = tweet_data.data.source"
   ]
  },
  {
   "cell_type": "code",
   "execution_count": null,
   "metadata": {},
   "outputs": [],
   "source": [
    "print(tweet_text)"
   ]
  },
  {
   "cell_type": "code",
   "execution_count": null,
   "metadata": {},
   "outputs": [],
   "source": [
    "print(tweet_created_at)"
   ]
  },
  {
   "attachments": {},
   "cell_type": "markdown",
   "metadata": {},
   "source": [
    "## Ingest tweets based on a specific query"
   ]
  },
  {
   "cell_type": "code",
   "execution_count": null,
   "metadata": {},
   "outputs": [],
   "source": [
    "import requests\n",
    "\n",
    "BEARER_TOKEN = twitter.bearer_token\n",
    "\n",
    "def create_headers(bearer_token):\n",
    "    headers = {\"Authorization\": f\"Bearer {bearer_token}\"}\n",
    "    return headers\n",
    "\n",
    "def search_tweets(headers, url):\n",
    "    response = requests.get(url, headers=headers)\n",
    "    if response.status_code != 200:\n",
    "        raise Exception(f\"Error {response.status_code}: {response.text}\")\n",
    "    return response.json()\n"
   ]
  },
  {
   "cell_type": "code",
   "execution_count": null,
   "metadata": {},
   "outputs": [],
   "source": [
    "def create_url(query, max_results=10):\n",
    "    url = f\"https://api.twitter.com/2/tweets/search/recent?query={query}&max_results={max_results}&tweet.fields=created_at,public_metrics,lang&expansions=author_id&user.fields=username\"\n",
    "    return url\n",
    "\n",
    "def main():\n",
    "    headers = create_headers(BEARER_TOKEN)\n",
    "    query = \"Sandra Torres\"\n",
    "    url = create_url(query)\n",
    "    json_response = search_tweets(headers, url)\n",
    "\n",
    "    for tweet in json_response[\"data\"]:\n",
    "        print(f\"Tweet ID: {tweet['id']}\")\n",
    "        print(f\"Tweet Text: {tweet['text']}\")\n",
    "        print(f\"Tweet Created At: {tweet['created_at']}\")\n",
    "        print(f\"Retweets: {tweet['public_metrics']['retweet_count']}\")\n",
    "        print(f\"Likes: {tweet['public_metrics']['like_count']}\")\n",
    "        print(f\"Replies: {tweet['public_metrics']['reply_count']}\")\n",
    "        print(f\"Quote Counts: {tweet['public_metrics']['quote_count']}\")\n",
    "        print(\"------------\")"
   ]
  },
  {
   "cell_type": "code",
   "execution_count": null,
   "metadata": {},
   "outputs": [],
   "source": [
    "main()"
   ]
  },
  {
   "cell_type": "markdown",
   "metadata": {},
   "source": [
    "## Tweepy example"
   ]
  },
  {
   "attachments": {},
   "cell_type": "markdown",
   "metadata": {},
   "source": [
    "¿En qué necesito pensar?\n",
    "\n",
    "- ¿Qué campos necesito?\n",
    "- Establecer qué políticos tomar en cuenta. Scrape the list from here: https://es.wikipedia.org/wiki/Elecciones_generales_de_Guatemala_de_2023\n",
    "- Llevar los datos a un dataframe\n",
    "- ¿Guardar los datos en una base de datos SQL local?\n"
   ]
  },
  {
   "cell_type": "code",
   "execution_count": 57,
   "metadata": {},
   "outputs": [],
   "source": [
    "import requests\n",
    "\n",
    "client = tweepy.Client(bearer_token=twitter.bearer_token, wait_on_rate_limit=True)\n",
    "\n",
    "def get_tweets(query: str, start_time: str, end_time: str, max_results: int) -> requests.Response:\n",
    "    query = query + \" -is:retweet\" \n",
    "\n",
    "    tweets = client.search_recent_tweets(\n",
    "        query=query,\n",
    "        start_time=start_time,\n",
    "        end_time=end_time,\n",
    "        max_results=max_results,\n",
    "        tweet_fields=[\n",
    "            \"attachments\", \"author_id\", \"context_annotations\", \"created_at\",\n",
    "            \"entities\", \"geo\", \"id\", \"in_reply_to_user_id\", \"lang\",\n",
    "            \"possibly_sensitive\", \"public_metrics\", \"referenced_tweets\",\n",
    "            \"source\", \"text\", \"withheld\"\n",
    "        ],\n",
    "        user_fields=[\n",
    "            \"created_at\", \"description\", \"entities\", \"id\", \"location\",\n",
    "            \"name\", \"pinned_tweet_id\", \"profile_image_url\",\n",
    "            \"protected\", \"public_metrics\", \"url\", \"username\",\n",
    "            \"verified\", \"withheld\"],\n",
    "        expansions=[\n",
    "            \"referenced_tweets.id\", \"author_id\"\n",
    "        ]\n",
    "    )\n",
    "\n",
    "    return tweets\n",
    "\n",
    "# Example usage\n",
    "query = \"alejandro giammattei\"\n",
    "start_time = \"2023-04-25T00:00:00Z\" \n",
    "end_time = \"2023-04-28T00:00:00Z\" \n",
    "max_results = 10\n",
    "\n",
    "tweets_data = get_tweets(query, start_time, end_time, max_results)"
   ]
  },
  {
   "cell_type": "code",
   "execution_count": 58,
   "metadata": {},
   "outputs": [
    {
     "name": "stdout",
     "output_type": "stream",
     "text": [
      "Tweet ID: 1651736952209645569\n",
      "Tweet Text: Claro que da gracias a Dios @jimmymoralesgt  sin la #CICIG pudo robar, hacer obras faraonicas que se caen a pedazos y la “justicia” no lo toca… su mejor herencia para Alejandro Giammattei https://t.co/OjQx9t4JKk\n",
      "Public Metrics: {'retweet_count': 0, 'reply_count': 0, 'like_count': 0, 'quote_count': 0, 'impression_count': 20}\n",
      "\n",
      "Tweet ID: 1651731561635540998\n",
      "Tweet Text: @NuestroDiario Bravo Alejandro Giammattei el dr asesino… siguen acumulándose almas de niños inocentes por tu maldita avaricia… Corrupción el país de la eterna corrupción…\n",
      "Public Metrics: {'retweet_count': 0, 'reply_count': 0, 'like_count': 0, 'quote_count': 0, 'impression_count': 29}\n",
      "\n",
      "Tweet ID: 1651726612046528513\n",
      "Tweet Text: El presidente de Guatemala, Alejandro Giammattei, se refirió a la isla como la \"República de Taiwán\" en lugar de utilizar la oficial \"República de China\"\n",
      "https://t.co/c2pBB5rUxj?\n",
      "Public Metrics: {'retweet_count': 0, 'reply_count': 0, 'like_count': 0, 'quote_count': 0, 'impression_count': 13}\n",
      "\n",
      "Tweet ID: 1651722903778480134\n",
      "Tweet Text: Beneficiaria del #ComedorSocial en San Martín Zapotitlán, Retalhuleu, agradece al Presidente Alejandro Giammattei. https://t.co/WH1yauuZuE\n",
      "Public Metrics: {'retweet_count': 2, 'reply_count': 0, 'like_count': 6, 'quote_count': 1, 'impression_count': 384}\n",
      "\n",
      "Tweet ID: 1651722895977062401\n",
      "Tweet Text: #Economía El presidente Alejandro Giammattei y la presidenta Tsai Ing-wen se encargaron de dar inicio al mes dedicado al café guatemalteco en China (Taiwán).\n",
      "Entérate aquí\n",
      "https://t.co/1k1v39jkfK https://t.co/y6W3nmysns\n",
      "Public Metrics: {'retweet_count': 0, 'reply_count': 0, 'like_count': 0, 'quote_count': 0, 'impression_count': 64}\n",
      "\n",
      "Tweet ID: 1651693881736458247\n",
      "Tweet Text: El gobierno chino condenó la visita a Taipéi del presidente guatemalteco, Alejandro Giammattei, y dijo que el país centroamericano debe acogerse al principio de una sola China. \n",
      "\n",
      "https://t.co/7QpFouUJK1\n",
      "Public Metrics: {'retweet_count': 2, 'reply_count': 2, 'like_count': 2, 'quote_count': 0, 'impression_count': 2458}\n",
      "\n",
      "Tweet ID: 1651678681750724613\n",
      "Tweet Text: @usembassyguate @SecBlinken Centros de criminales,  están asociados con el criminal Alejandro Giammattei,  USA promotor y  financista de golpes de estado en los países. \n",
      "El mundo lo sabe!!!\n",
      "Public Metrics: {'retweet_count': 1, 'reply_count': 0, 'like_count': 3, 'quote_count': 0, 'impression_count': 279}\n",
      "\n",
      "Tweet ID: 1651662619282128896\n",
      "Tweet Text: @MoratayaYoel Óscar Berger\n",
      "Álvaro Colom\n",
      "Otto Pérez Molina ( Alejandro Maldonado Aguirre)  Jimmy Morales\n",
      "Alejandro Giammattei\n",
      "Difícil elegir de los últimos 5 peores gobernantes, elegir 1 XD.\n",
      "Public Metrics: {'retweet_count': 0, 'reply_count': 0, 'like_count': 1, 'quote_count': 0, 'impression_count': 133}\n",
      "\n",
      "Tweet ID: 1651647777728872453\n",
      "Tweet Text: ➡️En las Elecciones Generales de 2019, Alejandro Giammattei ganó la Presidencia con la aprobación de únicamente el 23% de las personas empadronadas.\n",
      "\n",
      "En cifras: 38 de cada 100 personas no votaron en la primera vuelta y 58 no lo hicieron en la segunda.\n",
      "Public Metrics: {'retweet_count': 0, 'reply_count': 1, 'like_count': 0, 'quote_count': 0, 'impression_count': 21}\n",
      "\n",
      "Tweet ID: 1651645740182061056\n",
      "Tweet Text: ahi faltan Jimmy Morales, Alejandro Giammattei, Sandra Torres, Carlos Pineda, Zury Ríos y sus fans https://t.co/BOcKfitBLE\n",
      "Public Metrics: {'retweet_count': 2, 'reply_count': 3, 'like_count': 5, 'quote_count': 0, 'impression_count': 1547}\n",
      "\n"
     ]
    }
   ],
   "source": [
    "for tweet in tweets_data.data:\n",
    "    print(f\"Tweet ID: {tweet.id}\")\n",
    "    print(f\"Tweet Text: {tweet.text}\")\n",
    "    print(f\"Public Metrics: {tweet.public_metrics}\\n\")"
   ]
  },
  {
   "cell_type": "code",
   "execution_count": 40,
   "metadata": {},
   "outputs": [],
   "source": [
    "tweets = get_tweets(\n",
    "    query=query,\n",
    "    start_time=None,\n",
    "    end_time=None,\n",
    "    max_results=max_results,\n",
    ")"
   ]
  },
  {
   "cell_type": "code",
   "execution_count": 43,
   "metadata": {},
   "outputs": [
    {
     "name": "stdout",
     "output_type": "stream",
     "text": [
      "User ID: 1240033191420928001\n",
      "Username: Cetel22020\n",
      "Name: Cetel\n",
      "Description: Somos expertos en transacciones electrónicas en línea\n",
      "Location: None\n",
      "URL: https://t.co/8dh1BgzKvi\n",
      "Verified: False\n",
      "------------\n",
      "User ID: 1626691098\n",
      "Username: OlguitaValBo\n",
      "Name: Olga Valdizan\n",
      "Description: \n",
      "Location: Guatemala\n",
      "URL: None\n",
      "Verified: False\n",
      "------------\n",
      "User ID: 509713517\n",
      "Username: edgarhh2\n",
      "Name: Edgar Hidalgo\n",
      "Description: \n",
      "Location: None\n",
      "URL: None\n",
      "Verified: False\n",
      "------------\n",
      "User ID: 145906024\n",
      "Username: vcaballeros\n",
      "Name: Victor Caballeros\n",
      "Description: \n",
      "Location: Guatemala\n",
      "URL: None\n",
      "Verified: False\n",
      "------------\n",
      "User ID: 1598026428372684818\n",
      "Username: Llitt666\n",
      "Name: Pablo Guzman Cruz\n",
      "Description: Mis tweets reflejan opiniones personales, no se enojen\n",
      "Location: Guatemala\n",
      "URL: None\n",
      "Verified: False\n",
      "------------\n",
      "User ID: 722799327890935810\n",
      "Username: Rojosezu\n",
      "Name: Rojo\n",
      "Description: Ingeniando dia con dia, no soy flojo (rojo).\n",
      "Location: Antigua Guatemala. \n",
      "URL: None\n",
      "Verified: False\n",
      "------------\n",
      "User ID: 1240033191420928001\n",
      "Username: Cetel22020\n",
      "Name: Cetel\n",
      "Description: Somos expertos en transacciones electrónicas en línea\n",
      "Location: None\n",
      "URL: https://t.co/8dh1BgzKvi\n",
      "Verified: False\n",
      "------------\n",
      "User ID: 913150780189954051\n",
      "Username: LuisAlf63022524\n",
      "Name: Luis Alfredo marsh\n",
      "Description: pensando y tratando de aportar a mi pais para que salga de la gran pobreza que han causado y siguen causando los gobiernos corruptos dis que democraticos!!!\n",
      "Location: None\n",
      "URL: None\n",
      "Verified: False\n",
      "------------\n",
      "User ID: 1200100567139471360\n",
      "Username: leonelinsegura\n",
      "Name: 𝖘𝖜𝖊𝖊𝖙 𝖋𝖆𝖌𝖚𝖗𝖙\n",
      "Description: \n",
      "Location: Chromarica\n",
      "URL: https://t.co/km2UqFSyRw\n",
      "Verified: False\n",
      "------------\n",
      "User ID: 1361751975474438149\n",
      "Username: VickyHe49518077\n",
      "Name: Vicky Hernandez\n",
      "Description: \n",
      "Location: None\n",
      "URL: None\n",
      "Verified: False\n",
      "------------\n"
     ]
    }
   ],
   "source": [
    "# Convert the list of users to a dictionary with author_id as the key\n",
    "users_dict = {user.id: user for user in tweets.includes['users']}\n",
    "\n",
    "# Accessing the user_fields for each tweet\n",
    "for tweet in tweets.data:\n",
    "    author_id = tweet.author_id\n",
    "    user = users_dict.get(author_id)\n",
    "    if user:\n",
    "        print(f\"User ID: {user.id}\")\n",
    "        print(f\"Username: {user.username}\")\n",
    "        print(f\"Name: {user.name}\")\n",
    "        print(f\"Description: {user.description}\")\n",
    "        print(f\"Location: {user.location}\")\n",
    "        print(f\"URL: {user.url}\")\n",
    "        print(f\"Verified: {user.verified}\")\n",
    "        print(\"------------\")\n",
    "    else:\n",
    "        print(f\"No user data found for author_id: {author_id}\")\n"
   ]
  },
  {
   "cell_type": "code",
   "execution_count": 44,
   "metadata": {},
   "outputs": [
    {
     "name": "stdout",
     "output_type": "stream",
     "text": [
      "Tweet ID: 1652116231443427329\n",
      "Text: RT @MyEyes_AdoredU: Zury Rios es una tramposa, mentirosa y mañosa #ZuryNoTeToca\n",
      "Retweet count: 66\n",
      "Reply count: 0\n",
      "Like count: 0\n",
      "Quote count: 0\n",
      "------------\n",
      "Tweet ID: 1652115646870614018\n",
      "Text: RT @Sonny_Figueroa: TERCERA PARTE DE LA INVESTIGACIÓN #CasoTSEValor \n",
      "\n",
      "Zury Ríos lo niega, pero chats lo confirman\n",
      "\n",
      "En esta nueva entrega pr…\n",
      "Retweet count: 415\n",
      "Reply count: 0\n",
      "Like count: 0\n",
      "Quote count: 0\n",
      "------------\n",
      "Tweet ID: 1652115196041654274\n",
      "Text: RT @FigueroaSarti: Disfruten de su fin de semana largo. Y para no preocuparse mucho del futuro del país tomen nota de que Zury Ríos, la hij…\n",
      "Retweet count: 63\n",
      "Reply count: 0\n",
      "Like count: 0\n",
      "Quote count: 0\n",
      "------------\n",
      "Tweet ID: 1652115147383533569\n",
      "Text: RT @Davidck7: 🔻Si les parece grave que un hombre cercano a Zury Ríos controle el monitoreo del TSE. Acá hay otro dato: \n",
      "\n",
      "Dos magistrados de…\n",
      "Retweet count: 214\n",
      "Reply count: 0\n",
      "Like count: 0\n",
      "Quote count: 0\n",
      "------------\n",
      "Tweet ID: 1652114615331856384\n",
      "Text: RT @Davidck7: 🔻Si les parece grave que un hombre cercano a Zury Ríos controle el monitoreo del TSE. Acá hay otro dato: \n",
      "\n",
      "Dos magistrados de…\n",
      "Retweet count: 214\n",
      "Reply count: 0\n",
      "Like count: 0\n",
      "Quote count: 0\n",
      "------------\n",
      "Tweet ID: 1652114207565815808\n",
      "Text: RT @Davidck7: 🔻Si les parece grave que un hombre cercano a Zury Ríos controle el monitoreo del TSE. Acá hay otro dato: \n",
      "\n",
      "Dos magistrados de…\n",
      "Retweet count: 214\n",
      "Reply count: 0\n",
      "Like count: 0\n",
      "Quote count: 0\n",
      "------------\n",
      "Tweet ID: 1652113910701621248\n",
      "Text: RT @marioquan: Me gustaría un debate —no foro— entre Zury Ríos (@ZuryxGuate) y Bernardo Arévalo (@BArevalodeLeon).\n",
      "\n",
      "¿Por qué? Porque en un…\n",
      "Retweet count: 118\n",
      "Reply count: 0\n",
      "Like count: 0\n",
      "Quote count: 0\n",
      "------------\n",
      "Tweet ID: 1652113433356038146\n",
      "Text: RT @VoxPopuliGuate: TERCERA PARTE DE LA INVESTIGACIÓN #CasoTSEValor \n",
      "\n",
      "Zury Ríos lo niega, pero chats lo confirman\n",
      "\n",
      "En esta nueva entrega pr…\n",
      "Retweet count: 192\n",
      "Reply count: 0\n",
      "Like count: 0\n",
      "Quote count: 0\n",
      "------------\n",
      "Tweet ID: 1652112919889362949\n",
      "Text: RT @PeppePig_666: Si Zury Ríos dice ser Swifty también votarían por ella?\n",
      "Porque así se ven con el de semilla 💀💀💀💀💀\n",
      "Retweet count: 1\n",
      "Reply count: 0\n",
      "Like count: 0\n",
      "Quote count: 0\n",
      "------------\n",
      "Tweet ID: 1652112072858009601\n",
      "Text: RT @Davidck7: 🔻Si les parece grave que un hombre cercano a Zury Ríos controle el monitoreo del TSE. Acá hay otro dato: \n",
      "\n",
      "Dos magistrados de…\n",
      "Retweet count: 214\n",
      "Reply count: 0\n",
      "Like count: 0\n",
      "Quote count: 0\n",
      "------------\n"
     ]
    }
   ],
   "source": [
    "for tweet in tweets.data:\n",
    "    public_metrics = tweet.public_metrics\n",
    "    print(f\"Tweet ID: {tweet.id}\")\n",
    "    print(f\"Text: {tweet.text}\")\n",
    "    print(f\"Retweet count: {public_metrics['retweet_count']}\")\n",
    "    print(f\"Reply count: {public_metrics['reply_count']}\")\n",
    "    print(f\"Like count: {public_metrics['like_count']}\")\n",
    "    print(f\"Quote count: {public_metrics['quote_count']}\")\n",
    "    print(\"------------\")"
   ]
  },
  {
   "cell_type": "code",
   "execution_count": 45,
   "metadata": {},
   "outputs": [],
   "source": [
    "public_metrics = tweet.public_metrics"
   ]
  },
  {
   "cell_type": "code",
   "execution_count": 46,
   "metadata": {},
   "outputs": [
    {
     "data": {
      "text/plain": [
       "{'retweet_count': 214,\n",
       " 'reply_count': 0,\n",
       " 'like_count': 0,\n",
       " 'quote_count': 0,\n",
       " 'impression_count': 0}"
      ]
     },
     "execution_count": 46,
     "metadata": {},
     "output_type": "execute_result"
    }
   ],
   "source": [
    "public_metrics"
   ]
  },
  {
   "cell_type": "code",
   "execution_count": 51,
   "metadata": {},
   "outputs": [
    {
     "data": {
      "text/plain": [
       "[<Tweet id=1652116231443427329 text='RT @MyEyes_AdoredU: Zury Rios es una tramposa, mentirosa y mañosa #ZuryNoTeToca'>,\n",
       " <Tweet id=1652115646870614018 text='RT @Sonny_Figueroa: TERCERA PARTE DE LA INVESTIGACIÓN #CasoTSEValor \\n\\nZury Ríos lo niega, pero chats lo confirman\\n\\nEn esta nueva entrega pr…'>,\n",
       " <Tweet id=1652115196041654274 text='RT @FigueroaSarti: Disfruten de su fin de semana largo. Y para no preocuparse mucho del futuro del país tomen nota de que Zury Ríos, la hij…'>,\n",
       " <Tweet id=1652115147383533569 text='RT @Davidck7: 🔻Si les parece grave que un hombre cercano a Zury Ríos controle el monitoreo del TSE. Acá hay otro dato: \\n\\nDos magistrados de…'>,\n",
       " <Tweet id=1652114615331856384 text='RT @Davidck7: 🔻Si les parece grave que un hombre cercano a Zury Ríos controle el monitoreo del TSE. Acá hay otro dato: \\n\\nDos magistrados de…'>,\n",
       " <Tweet id=1652114207565815808 text='RT @Davidck7: 🔻Si les parece grave que un hombre cercano a Zury Ríos controle el monitoreo del TSE. Acá hay otro dato: \\n\\nDos magistrados de…'>,\n",
       " <Tweet id=1652113910701621248 text='RT @marioquan: Me gustaría un debate —no foro— entre Zury Ríos (@ZuryxGuate) y Bernardo Arévalo (@BArevalodeLeon).\\n\\n¿Por qué? Porque en un…'>,\n",
       " <Tweet id=1652113433356038146 text='RT @VoxPopuliGuate: TERCERA PARTE DE LA INVESTIGACIÓN #CasoTSEValor \\n\\nZury Ríos lo niega, pero chats lo confirman\\n\\nEn esta nueva entrega pr…'>,\n",
       " <Tweet id=1652112919889362949 text='RT @PeppePig_666: Si Zury Ríos dice ser Swifty también votarían por ella?\\nPorque así se ven con el de semilla 💀💀💀💀💀'>,\n",
       " <Tweet id=1652112072858009601 text='RT @Davidck7: 🔻Si les parece grave que un hombre cercano a Zury Ríos controle el monitoreo del TSE. Acá hay otro dato: \\n\\nDos magistrados de…'>]"
      ]
     },
     "execution_count": 51,
     "metadata": {},
     "output_type": "execute_result"
    }
   ],
   "source": [
    "tweets.data"
   ]
  },
  {
   "cell_type": "code",
   "execution_count": null,
   "metadata": {},
   "outputs": [],
   "source": []
  }
 ],
 "metadata": {
  "kernelspec": {
   "display_name": "ml39",
   "language": "python",
   "name": "python3"
  },
  "language_info": {
   "codemirror_mode": {
    "name": "ipython",
    "version": 3
   },
   "file_extension": ".py",
   "mimetype": "text/x-python",
   "name": "python",
   "nbconvert_exporter": "python",
   "pygments_lexer": "ipython3",
   "version": "3.11.3"
  },
  "orig_nbformat": 4
 },
 "nbformat": 4,
 "nbformat_minor": 2
}
