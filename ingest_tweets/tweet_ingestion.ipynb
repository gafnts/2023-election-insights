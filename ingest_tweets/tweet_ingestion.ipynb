{
 "cells": [
  {
   "attachments": {},
   "cell_type": "markdown",
   "metadata": {},
   "source": [
    "# Test\n",
    "\n",
    "Agreement and policy: https://developer.twitter.com/en/developer-terms/agreement-and-policy"
   ]
  },
  {
   "cell_type": "code",
   "execution_count": 1,
   "metadata": {},
   "outputs": [],
   "source": [
    "import os\n",
    "os.chdir('..')\n",
    "\n",
    "import requests\n",
    "import tweepy\n",
    "import pandas as pd\n",
    "from modules import TwitterAuthentication\n",
    "\n",
    "twitter = TwitterAuthentication()\n",
    "client = tweepy.Client(bearer_token=twitter.bearer_token)"
   ]
  },
  {
   "cell_type": "markdown",
   "metadata": {},
   "source": [
    "## Tweepy example"
   ]
  },
  {
   "attachments": {},
   "cell_type": "markdown",
   "metadata": {},
   "source": [
    "¿En qué necesito pensar?\n",
    "\n",
    "- ¿Qué campos necesito? Listo.\n",
    "- ¿Cómo expandir public metrics?\n",
    "- Esquema para extraer datos uniformemente durante los últimos 7 días\n",
    "- Establecer qué políticos tomar en cuenta. Scrape the list from here: https://es.wikipedia.org/wiki/Elecciones_generales_de_Guatemala_de_2023\n",
    "- ¿Guardar los datos en una base de datos SQL local?\n"
   ]
  },
  {
   "cell_type": "code",
   "execution_count": 2,
   "metadata": {},
   "outputs": [],
   "source": [
    "def get_tweets(query: str, start_time: str, end_time: str, max_results: int) -> requests.Response:\n",
    "    query = query = f\"{query} -is:retweet -is:reply\"\n",
    "    tweets = client.search_recent_tweets(\n",
    "        query=query,\n",
    "        start_time=start_time,\n",
    "        end_time=end_time,\n",
    "        max_results=max_results,\n",
    "        tweet_fields=[\n",
    "            \"author_id\", \"created_at\", \"text\", \"entities\", \n",
    "            \"geo\", \"id\", \"lang\", \"public_metrics\",\n",
    "            \"possibly_sensitive\", \"referenced_tweets\"\n",
    "        ],\n",
    "        user_fields=[\n",
    "            \"username\", \"name\", \"created_at\", \"description\", \"id\", \n",
    "            \"entities\", \"location\", \"pinned_tweet_id\", \"profile_image_url\", \n",
    "            \"public_metrics\", \"verified\", \"withheld\"\n",
    "        ],\n",
    "        expansions=[\n",
    "            \"author_id\", \"referenced_tweets.id\"\n",
    "        ]\n",
    "    )\n",
    "    return tweets"
   ]
  },
  {
   "cell_type": "code",
   "execution_count": 6,
   "metadata": {},
   "outputs": [],
   "source": [
    "# Prepare lists to store tweet and user data\n",
    "tweet_data = []\n",
    "user_data = {}\n",
    "\n",
    "# Extract tweet and user data\n",
    "for tweet in tweets.data:\n",
    "    tweet_dict = {key: getattr(tweet, key) for key in tweet.data.keys()}\n",
    "    tweet_data.append(tweet_dict)\n",
    "    author_id = tweet.author_id\n",
    "    user = [u for u in tweets.includes['users'] if u.id == author_id][0]\n",
    "    user_data[author_id] = {key: getattr(user, key) for key in user.data.keys()}\n",
    "\n",
    "# Create DataFrames for tweets and users\n",
    "tweets_df = pd.DataFrame(tweet_data)\n",
    "users_df = pd.DataFrame(user_data.values())\n",
    "\n",
    "# Merge DataFrames on author_id\n",
    "df = tweets_df.merge(users_df, left_on='author_id', right_on='id', suffixes=('_tweet', '_user'))\n",
    "\n",
    "df.to_csv('tweets.csv', index=False)"
   ]
  },
  {
   "cell_type": "code",
   "execution_count": 3,
   "metadata": {},
   "outputs": [],
   "source": [
    "# Example usage\n",
    "query = 'sammy morales'\n",
    "start_time = \"2023-04-25T00:00:00Z\" \n",
    "end_time = \"2023-04-28T00:00:00Z\" \n",
    "max_results = 10\n",
    "\n",
    "tweets = get_tweets(\n",
    "    query=query,\n",
    "    start_time=start_time,\n",
    "    end_time=end_time,\n",
    "    max_results=max_results,\n",
    ")"
   ]
  },
  {
   "cell_type": "code",
   "execution_count": 4,
   "metadata": {},
   "outputs": [
    {
     "data": {
      "text/plain": [
       "Response(data=[<Tweet id=1651701981046513666 text='Sammy Morales sabe que con el Libramiento de Chimaltenango su hermano Jimmy Morales robó millones del erario nacional. https://t.co/E9ndjElmG4'>, <Tweet id=1651694114390392834 text='((AL AIRE)) 🔊\\xa0En #Hora15 “La Hora de los Candidatos”. Seguimos con las propuestas políticas de los candidatos a la presidencia. El invitado en cabina es Sammy Morales, candidato del partido Frente de Convergencia Nacional (FCN-Nación). Participe 📷\\n\\n📻\\xa0https://t.co/YuLQ5FB7OW https://t.co/vhKYzOHrO7 https://t.co/1YPjnH8rqb'>, <Tweet id=1651694055292583936 text='((AL AIRE)) 🔊 En #Hora15 “La Hora de los Candidatos”. Seguimos con las propuestas políticas de los candidatos a la presidencia. El invitado en cabina es Sammy Morales, candidato del partido Frente de Convergencia Nacional (FCN-Nación). Participe \\n\\n📻 https://t.co/KgLpSYC2pM https://t.co/NOmrj4lAuy'>, <Tweet id=1651660145456193556 text='Pero el hijueputamas decie que van por mas, con Manuel Conde, Zury Rios, Sandra tarantula Torres, Sammy Morales, Carlos Pineda, Edmond Mulet, Talamontti, Los Baldizon, Amilcar Rivera y toda esas ratas corruptas de la \"derecha\" .\\nGuatemaltecos NO votemos por estos corruptos. https://t.co/55vTg86gjy'>, <Tweet id=1651433821709950980 text='Mi top 5 de campañas electorales más ridículas: \\n\\n1. Sammy Morales\\n2. Carlos Pineda\\n3. Marlon Puente \"Pirulo\"\\n4. Neto Bran \\n5. Sandra Torres y Zury Ríos por igual.'>, <Tweet id=1651410952963731457 text='José Alberto López Morales alias \"el puerto informa\" pretende llegar al Congreso sin tener experiencia alguna más q en insultar para defender al #PactoDeCorruptos al cual seguramente pertenece. No se sorprendan que resulte siendo familiar de los ladrones de Jimmy y Sammy Morales. https://t.co/hgtLyqya3j'>, <Tweet id=1651285383047520259 text='El candidato a la presidencia por FCN-Nación, Sammy Morales, aseguró que en el Libramiento de Chimaltenango ha habido derrumbes solamente en un tramo de 60 metros lineales.\\n\\nEsto es #Falso 🔴\\n\\nEn este 🧵 te contamos por qué. https://t.co/cDaYrX0r6k'>, <Tweet id=1651266811084652553 text='Cómo fregados no va estar mal GUATEMALA si la mara es tan bruta que es usada como caja de resonancia para el payaso 2.0, y no me refiero al delincuente Sammy Morales, me estoy refiriendo a Pineda.\\nEl tipo ya fué desenmascarado, ya sabemos quién es, hora de mandarlo a la vertola.'>, <Tweet id=1650935571974332423 text='Se imaginan a Sammy morales de presidente? \\n\\nEn la carcel debería estar ese corrupto al igual que el hijo de puta, digo el hijo de Jimmy'>, <Tweet id=1650858776981807104 text='Y el imbcil mafioso  Sammy Morales  igual al desgraciad0 de #JimmyMoralest comprando votos que se espera de una porquería así❓❓❓ ojo TSE Guatemala https://t.co/u3TEnntXdU'>], includes={'users': [<User id=118883468 name=ஐ εïз 𝓛𝓪 𝓜𝓪𝓯𝓪𝓵𝓭𝓸𝓵𝓸𝓰𝓪 εïз ஐ 🔎 username=_Mafaldologa>, <User id=40256008 name=Emisoras Unidas username=EmisorasUnidas>, <User id=710243881409839104 name=Publinews Guatemala username=PublinewsGT>, <User id=281855486 name=UnGuatemalteco Kaqchikel. username=BernabeGE>, <User id=85385811 name=Pablo Paz username=Pablito_Guate>, <User id=1095086472389111811 name=Fáctica gt username=facticagt>, <User id=1352262058838933506 name=Hugo Campaigniac username=CampaigniacH>, <User id=1706130662 name=J _s0mbr3r0n 🎩 username=JuanChanquei>, <User id=804660554 name=Yo solo digo netas username=tavogarcia54>], 'tweets': [<Tweet id=1651698124035964928 text='🗳🇬🇹 #EUElecciones2023 ¿Qué quedó pendiente del gobierno de FCN? \"Hay mucho en lo que se debe trabajar. La cobertura educativa, la salud, la conectividad a través de carreteras. La construcción de más y nuevos libramientos. La ciudad necesita al menos 4 libramientos\", asegura. https://t.co/alQiwZpNwR'>, <Tweet id=1651623983362580499 text='Y por otra parte en el congreso comen, viajan, chupan, se movilizan, y gozan a costillas del pueblo https://t.co/0NH2e2v8TL'>, <Tweet id=1651405342872420353 text='Acá el nombre y rostro de 2 individuos que se han dedicado a difamarme a mi y a @Sonny_Figueroa  durante meses\\n\\nEllos y secuaces son parte de campañas de desprestigio en contra nuestra\\n\\nLes molestan nuestras investigaciones periodísticas\\n\\nUno de ellos es candidato de FCN Nación https://t.co/IdzqkeoPsF'>]}, errors=[], meta={'newest_id': '1651701981046513666', 'oldest_id': '1650858776981807104', 'result_count': 10, 'next_token': 'b26v89c19zqg8o3fqkfygc03mnw98c2i91n1w03jp5shp'})"
      ]
     },
     "execution_count": 4,
     "metadata": {},
     "output_type": "execute_result"
    }
   ],
   "source": [
    "tweets"
   ]
  },
  {
   "cell_type": "code",
   "execution_count": null,
   "metadata": {},
   "outputs": [],
   "source": []
  }
 ],
 "metadata": {
  "kernelspec": {
   "display_name": "ml39",
   "language": "python",
   "name": "python3"
  },
  "language_info": {
   "codemirror_mode": {
    "name": "ipython",
    "version": 3
   },
   "file_extension": ".py",
   "mimetype": "text/x-python",
   "name": "python",
   "nbconvert_exporter": "python",
   "pygments_lexer": "ipython3",
   "version": "3.11.3"
  },
  "orig_nbformat": 4
 },
 "nbformat": 4,
 "nbformat_minor": 2
}
