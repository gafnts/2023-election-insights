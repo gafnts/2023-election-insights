{
 "cells": [
  {
   "attachments": {},
   "cell_type": "markdown",
   "metadata": {},
   "source": [
    "# Test\n",
    "\n",
    "Agreement and policy: https://developer.twitter.com/en/developer-terms/agreement-and-policy"
   ]
  },
  {
   "cell_type": "code",
   "execution_count": null,
   "metadata": {},
   "outputs": [],
   "source": [
    "import os\n",
    "os.chdir('..')\n",
    "\n",
    "import requests\n",
    "import tweepy\n",
    "import pandas as pd\n",
    "from modules import TwitterAuthentication\n",
    "\n",
    "twitter = TwitterAuthentication()\n",
    "client = tweepy.Client(bearer_token=twitter.bearer_token)"
   ]
  },
  {
   "cell_type": "markdown",
   "metadata": {},
   "source": [
    "## Tweepy example"
   ]
  },
  {
   "attachments": {},
   "cell_type": "markdown",
   "metadata": {},
   "source": [
    "¿En qué necesito pensar?\n",
    "\n",
    "- ¿Qué campos necesito? Listo.\n",
    "- ¿Cómo expandir public metrics?\n",
    "- Esquema para extraer datos uniformemente durante los últimos 7 días\n",
    "- Establecer qué políticos tomar en cuenta. Scrape the list from here: https://es.wikipedia.org/wiki/Elecciones_generales_de_Guatemala_de_2023\n",
    "- ¿Guardar los datos en una base de datos SQL local?\n"
   ]
  },
  {
   "attachments": {},
   "cell_type": "markdown",
   "metadata": {},
   "source": [
    "### Get tweets"
   ]
  },
  {
   "cell_type": "code",
   "execution_count": null,
   "metadata": {},
   "outputs": [],
   "source": [
    "def get_tweets(query: str, start_time: str, end_time: str, max_results: int) -> requests.Response:\n",
    "    # Get tweets from Twitter API, no retweets or replies\n",
    "    query = query = f\"{query} -is:retweet -is:reply\"\n",
    "    tweets = client.search_recent_tweets(\n",
    "        query=query,\n",
    "        start_time=start_time,\n",
    "        end_time=end_time,\n",
    "        max_results=max_results,\n",
    "        tweet_fields=[\n",
    "            \"author_id\", \"created_at\", \"text\", \"geo\", \"id\", \"lang\", \n",
    "            \"public_metrics\", \"possibly_sensitive\", \"referenced_tweets\"\n",
    "        ],\n",
    "        user_fields=[\n",
    "            \"username\", \"name\", \"created_at\", \"description\", \"id\", \n",
    "            \"entities\", \"location\", \"pinned_tweet_id\", \"profile_image_url\", \n",
    "            \"public_metrics\", \"verified\", \"withheld\"\n",
    "        ],\n",
    "        expansions=[\n",
    "            \"author_id\", \"referenced_tweets.id\"\n",
    "        ]\n",
    "    )\n",
    "    return tweets"
   ]
  },
  {
   "attachments": {},
   "cell_type": "markdown",
   "metadata": {},
   "source": [
    "### Store them in a DataFrame"
   ]
  },
  {
   "cell_type": "code",
   "execution_count": null,
   "metadata": {},
   "outputs": [],
   "source": [
    "def to_dataframe(tweets: requests.Response) -> pd.DataFrame:\n",
    "    # Extract tweet and user data\n",
    "    tweet_data = []\n",
    "    for tweet in tweets.data:\n",
    "        tweet_dict = {key: getattr(tweet, key) for key in tweet.data.keys()}\n",
    "        # Expand public_metrics dictionary and merge it with the tweet_dict\n",
    "        public_metrics = tweet_dict.pop('public_metrics')\n",
    "        tweet_dict.update(public_metrics)\n",
    "        tweet_data.append(tweet_dict)\n",
    "\n",
    "    # Create a DataFrame from the tweet data\n",
    "    df = pd.DataFrame(tweet_data)\n",
    "\n",
    "    # Include user data in the DataFrame\n",
    "    users = {user.id: user for user in tweets.includes['users']}\n",
    "    for key, user in users.items():\n",
    "        user_data = {f\"user_{key}\": getattr(user, key) for key in user.data.keys()}\n",
    "        # Expand user_public_metrics dictionary and merge it with the user_data\n",
    "        public_metrics_user = user_data.pop('user_public_metrics')\n",
    "        user_data.update({f\"user_{k}\": v for k, v in public_metrics_user.items()})\n",
    "        users[key] = user_data\n",
    "\n",
    "    df['user_data'] = df['author_id'].apply(lambda x: users[x])\n",
    "\n",
    "    # Merge user_data dictionary with the DataFrame\n",
    "    user_columns = pd.json_normalize(df['user_data']).columns\n",
    "    for col in user_columns:\n",
    "        df[col] = df['user_data'].apply(lambda x: x.get(col, None))\n",
    "\n",
    "    df = df.drop(columns=['user_data'])\n",
    "\n",
    "    return df"
   ]
  },
  {
   "attachments": {},
   "cell_type": "markdown",
   "metadata": {},
   "source": [
    "### Clean the data"
   ]
  },
  {
   "cell_type": "code",
   "execution_count": null,
   "metadata": {},
   "outputs": [],
   "source": [
    "df = to_dataframe(tweets)\n",
    "df.head()"
   ]
  },
  {
   "cell_type": "code",
   "execution_count": null,
   "metadata": {},
   "outputs": [],
   "source": []
  },
  {
   "attachments": {},
   "cell_type": "markdown",
   "metadata": {},
   "source": [
    "### Example usage"
   ]
  },
  {
   "cell_type": "code",
   "execution_count": null,
   "metadata": {},
   "outputs": [],
   "source": [
    "query = 'sammy morales'\n",
    "start_time = \"2023-04-25T00:00:00Z\" \n",
    "end_time = \"2023-04-28T00:00:00Z\" \n",
    "max_results = 10\n",
    "\n",
    "tweets = get_tweets(\n",
    "    query=query,\n",
    "    start_time=start_time,\n",
    "    end_time=end_time,\n",
    "    max_results=max_results,\n",
    ")\n",
    "\n",
    "tweets_df = to_dataframe(tweets)\n",
    "\n",
    "tweets_df.head()"
   ]
  },
  {
   "cell_type": "code",
   "execution_count": null,
   "metadata": {},
   "outputs": [],
   "source": []
  }
 ],
 "metadata": {
  "kernelspec": {
   "display_name": "ml39",
   "language": "python",
   "name": "python3"
  },
  "language_info": {
   "codemirror_mode": {
    "name": "ipython",
    "version": 3
   },
   "file_extension": ".py",
   "mimetype": "text/x-python",
   "name": "python",
   "nbconvert_exporter": "python",
   "pygments_lexer": "ipython3",
   "version": "3.11.3"
  },
  "orig_nbformat": 4
 },
 "nbformat": 4,
 "nbformat_minor": 2
}
