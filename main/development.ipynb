{
 "cells": [
  {
   "attachments": {},
   "cell_type": "markdown",
   "metadata": {},
   "source": [
    "# Development\n",
    "\n",
    "Agreement and policy: https://developer.twitter.com/en/developer-terms/agreement-and-policy"
   ]
  },
  {
   "cell_type": "code",
   "execution_count": null,
   "metadata": {},
   "outputs": [],
   "source": [
    "import os\n",
    "os.chdir('..')\n",
    "\n",
    "import pandas as pd\n",
    "\n",
    "from modules import (\n",
    "    TwitterRequest,\n",
    "    FeatureExtractor\n",
    ")"
   ]
  },
  {
   "attachments": {},
   "cell_type": "markdown",
   "metadata": {},
   "source": [
    "## Get tweets"
   ]
  },
  {
   "cell_type": "code",
   "execution_count": null,
   "metadata": {},
   "outputs": [],
   "source": [
    "query = 'edmond mulet'\n",
    "start_time = \"2023-04-28T00:00:00Z\" \n",
    "end_time = \"2023-04-29T00:00:00Z\" \n",
    "max_results = 10"
   ]
  },
  {
   "cell_type": "code",
   "execution_count": null,
   "metadata": {},
   "outputs": [],
   "source": [
    "tweets, users = (\n",
    "    TwitterRequest(\n",
    "        query=query,\n",
    "        start_time=start_time,\n",
    "        end_time=end_time,\n",
    "        max_results=max_results\n",
    "    )\n",
    "    .request()\n",
    "    .extract_tweets()\n",
    "    .extract_users()\n",
    "    .segregate()\n",
    "    .preprocess(\n",
    "        tweets_prefix = 'tw_',\n",
    "        users_prefix = 'us_'\n",
    "    )\n",
    ")"
   ]
  },
  {
   "cell_type": "code",
   "execution_count": null,
   "metadata": {},
   "outputs": [],
   "source": [
    "tweets.to_csv('tweets.csv', index=False)\n",
    "tweets.shape"
   ]
  },
  {
   "attachments": {},
   "cell_type": "markdown",
   "metadata": {},
   "source": [
    "## Get features"
   ]
  },
  {
   "cell_type": "code",
   "execution_count": null,
   "metadata": {},
   "outputs": [],
   "source": [
    "tweets = pd.read_csv('tweets.csv')\n",
    "tweets.shape"
   ]
  },
  {
   "cell_type": "code",
   "execution_count": null,
   "metadata": {},
   "outputs": [],
   "source": [
    "tweets_expanded = (\n",
    "    GPTFeatureExtraction(tweets=tweets)\n",
    "    .preprocess_text()\n",
    "    .extract_features(prefix='tw_')\n",
    ")\n",
    "\n",
    "tweets_expanded.head()"
   ]
  },
  {
   "cell_type": "code",
   "execution_count": null,
   "metadata": {},
   "outputs": [],
   "source": [
    "tweets_expanded.to_csv('tweets_expanded.csv', index=False)"
   ]
  },
  {
   "attachments": {},
   "cell_type": "markdown",
   "metadata": {},
   "source": [
    "## Get dataset"
   ]
  },
  {
   "cell_type": "code",
   "execution_count": null,
   "metadata": {},
   "outputs": [],
   "source": [
    "import pandas as pd\n",
    "from datetime import datetime, timedelta\n",
    "\n",
    "start_date = datetime(2023, 4, 27, 00, 00)\n",
    "end_date = datetime(2023, 4, 29, 00, 00)\n",
    "delta = timedelta(days=1)\n",
    "\n",
    "dates = []\n",
    "while start_date < end_date:\n",
    "    next_date = start_date + delta\n",
    "    dates.append(\n",
    "        (start_date.isoformat() + \"Z\", next_date.isoformat() + \"Z\")\n",
    "    )\n",
    "    start_date = next_date\n"
   ]
  },
  {
   "cell_type": "code",
   "execution_count": null,
   "metadata": {},
   "outputs": [],
   "source": [
    "for start_date, end_date in dates:\n",
    "    print(\n",
    "        f'Start: {start_date}',\n",
    "        f'End: {end_date}',\n",
    "        sep='\\n'\n",
    "    )"
   ]
  },
  {
   "cell_type": "code",
   "execution_count": null,
   "metadata": {},
   "outputs": [],
   "source": [
    "candidates = [\n",
    "    'carlos pineda', 'sandra torres', 'edmond mulet',\n",
    "    'zury rios', 'manuel conde'\n",
    "]\n",
    "\n",
    "candidates = [\n",
    "    'carlos pineda', 'sandra torres'\n",
    "]\n",
    "\n",
    "max_results = 10\n",
    "tweets_prefix = 'tw_'\n",
    "users_prefix = 'us_'"
   ]
  },
  {
   "cell_type": "code",
   "execution_count": null,
   "metadata": {},
   "outputs": [],
   "source": [
    "tweets_collector, users_collector = [], []\n",
    "for candidate in candidates:\n",
    "\n",
    "    dates_tweets_collector, dates_users_collector = [], []\n",
    "    for start_date, end_date in dates:\n",
    "        \n",
    "        tweets, users = (\n",
    "            TwitterRequest(\n",
    "                query=candidate,\n",
    "                start_time=start_date,\n",
    "                end_time=end_date,\n",
    "                max_results=max_results\n",
    "            )\n",
    "            .request()\n",
    "            .extract_tweets()\n",
    "            .extract_users()\n",
    "            .segregate()\n",
    "            .preprocess(\n",
    "                tweets_prefix=tweets_prefix,\n",
    "                users_prefix=users_prefix\n",
    "            )\n",
    "        )\n",
    "\n",
    "        tweets_with_gpt_features = (\n",
    "            FeatureExtractor(tweets=tweets)\n",
    "            .preprocess_text()\n",
    "            .extract_features(prefix=tweets_prefix)\n",
    "        )\n",
    "\n",
    "        tweets_with_gpt_features[f\"{tweets_prefix}candidate\"] = candidate\n",
    "        users[f\"{users_prefix}candidate\"] = candidate\n",
    "\n",
    "        dates_tweets_collector.append(tweets_with_gpt_features)\n",
    "        dates_users_collector.append(users)\n",
    "\n",
    "    tweets_collector.append(pd.concat(dates_tweets_collector))\n",
    "    users_collector.append(pd.concat(dates_users_collector))\n",
    "\n",
    "tweets = pd.concat(tweets_collector, axis=0, ignore_index=True)\n",
    "users = pd.concat(users_collector, axis=0, ignore_index=True)\n"
   ]
  },
  {
   "cell_type": "code",
   "execution_count": null,
   "metadata": {},
   "outputs": [],
   "source": [
    "tweets.to_csv('tweets_loop.csv', index=False)\n",
    "users.to_csv('users_loop.csv', index=False)"
   ]
  }
 ],
 "metadata": {
  "kernelspec": {
   "display_name": "ml39",
   "language": "python",
   "name": "python3"
  },
  "language_info": {
   "codemirror_mode": {
    "name": "ipython",
    "version": 3
   },
   "file_extension": ".py",
   "mimetype": "text/x-python",
   "name": "python",
   "nbconvert_exporter": "python",
   "pygments_lexer": "ipython3",
   "version": "3.10.11"
  },
  "orig_nbformat": 4
 },
 "nbformat": 4,
 "nbformat_minor": 2
}
