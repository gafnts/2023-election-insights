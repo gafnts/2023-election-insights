{
 "cells": [
  {
   "attachments": {},
   "cell_type": "markdown",
   "metadata": {},
   "source": [
    "# Development\n",
    "\n",
    "Agreement and policy: https://developer.twitter.com/en/developer-terms/agreement-and-policy"
   ]
  },
  {
   "cell_type": "code",
   "execution_count": 1,
   "metadata": {},
   "outputs": [],
   "source": [
    "import os\n",
    "os.chdir('..')\n",
    "\n",
    "import pandas as pd\n",
    "\n",
    "from modules import (\n",
    "    TwitterRequest,\n",
    "    GPTFeatureExtraction\n",
    ")"
   ]
  },
  {
   "attachments": {},
   "cell_type": "markdown",
   "metadata": {},
   "source": [
    "## Get tweets"
   ]
  },
  {
   "cell_type": "code",
   "execution_count": null,
   "metadata": {},
   "outputs": [],
   "source": [
    "query = 'edmond mulet'\n",
    "start_time = \"2023-04-28T00:00:00Z\" \n",
    "end_time = \"2023-04-29T00:00:00Z\" \n",
    "max_results = 10"
   ]
  },
  {
   "cell_type": "code",
   "execution_count": null,
   "metadata": {},
   "outputs": [],
   "source": [
    "tweets, users = (\n",
    "    TwitterRequest(\n",
    "        query=query,\n",
    "        start_time=start_time,\n",
    "        end_time=end_time,\n",
    "        max_results=max_results\n",
    "    )\n",
    "    .request()\n",
    "    .extract_tweets()\n",
    "    .extract_users()\n",
    "    .segregate()\n",
    "    .preprocess(\n",
    "        tweets_prefix = 'tw_',\n",
    "        users_prefix = 'us_'\n",
    "    )\n",
    ")"
   ]
  },
  {
   "cell_type": "code",
   "execution_count": null,
   "metadata": {},
   "outputs": [],
   "source": [
    "tweets.to_csv('tweets.csv', index=False)\n",
    "tweets.shape"
   ]
  },
  {
   "attachments": {},
   "cell_type": "markdown",
   "metadata": {},
   "source": [
    "## Get features"
   ]
  },
  {
   "cell_type": "code",
   "execution_count": 2,
   "metadata": {},
   "outputs": [
    {
     "data": {
      "text/plain": [
       "(10, 11)"
      ]
     },
     "execution_count": 2,
     "metadata": {},
     "output_type": "execute_result"
    }
   ],
   "source": [
    "tweets = pd.read_csv('tweets.csv')\n",
    "tweets.shape"
   ]
  },
  {
   "cell_type": "code",
   "execution_count": 3,
   "metadata": {},
   "outputs": [],
   "source": [
    "tweets_expanded = (\n",
    "    GPTFeatureExtraction(tweets=tweets)\n",
    "    .preprocess_text()\n",
    "    .extract_features(prefix='tw_')\n",
    ")\n",
    "\n",
    "tweets_expanded.head()"
   ]
  },
  {
   "attachments": {},
   "cell_type": "markdown",
   "metadata": {},
   "source": [
    "## Zero-shot feature extraction with GTP-3.5"
   ]
  },
  {
   "cell_type": "code",
   "execution_count": null,
   "metadata": {},
   "outputs": [],
   "source": [
    "import re\n",
    "import time\n",
    "import json\n",
    "import openai\n",
    "import pandas as pd\n",
    "from authenticators import OpenAIAuthenticator\n",
    "\n",
    "gpt = OpenAIAuthenticator()\n",
    "openai.api_key = gpt.api_key"
   ]
  },
  {
   "cell_type": "code",
   "execution_count": null,
   "metadata": {},
   "outputs": [],
   "source": [
    "tweets = pd.read_csv('tweets.csv')\n",
    "tweets.shape\n"
   ]
  },
  {
   "cell_type": "code",
   "execution_count": null,
   "metadata": {},
   "outputs": [],
   "source": [
    "df = (\n",
    "    GPTFeatureExtraction(tweets=tweets)\n",
    "    .preprocess_text()\n",
    "    .extract_features(prefix='tw_')\n",
    ")\n",
    "\n",
    "df.head()"
   ]
  },
  {
   "cell_type": "code",
   "execution_count": null,
   "metadata": {},
   "outputs": [],
   "source": [
    "def preprocess_text(text: str) -> str:\n",
    "    # Remove URLs\n",
    "    url_pattern = re.compile(r'http[s]?://(?:[a-zA-Z]|[0-9]|[$-_@.&+]|[!*\\\\(\\\\),]|(?:%[0-9a-fA-F][0-9a-fA-F]))+')\n",
    "    text = url_pattern.sub('', text)\n",
    "\n",
    "    # Remove emojis\n",
    "    emoji_pattern = re.compile(\n",
    "        \"[\"\n",
    "        u\"\\U0001F600-\\U0001F64F\"  # Emoticons\n",
    "        u\"\\U0001F300-\\U0001F5FF\"  # Symbols & pictographs\n",
    "        u\"\\U0001F680-\\U0001F6FF\"  # Transport & map symbols\n",
    "        u\"\\U0001F1E0-\\U0001F1FF\"  # Flags (iOS)\n",
    "        u\"\\U00002702-\\U000027B0\"\n",
    "        u\"\\U000024C2-\\U0001F251\"\n",
    "        \"]+\",\n",
    "        flags=re.UNICODE,\n",
    "    )\n",
    "    text = emoji_pattern.sub('', text)\n",
    "\n",
    "    # Remove newline characters\n",
    "    text = text.replace('\\n', ' ')\n",
    "\n",
    "    return text\n",
    "\n",
    "preprocessed_tweets = (\n",
    "    tweets\n",
    "    .assign(\n",
    "        tw_texto = lambda x: x['tw_texto'].apply(lambda x: preprocess_text(x))\n",
    "    )\n",
    ")\n",
    "\n",
    "preprocessed_tweets.head()"
   ]
  },
  {
   "cell_type": "code",
   "execution_count": null,
   "metadata": {},
   "outputs": [],
   "source": [
    "prefix = 'tw_'\n",
    "collector = []\n",
    "\n",
    "def gpt_features(prompt: str, model: str = \"gpt-3.5-turbo\", temperature: int = 0) -> str: \n",
    "    messages = [{\"role\": \"user\", \"content\": prompt}]\n",
    "    response = openai.ChatCompletion.create(\n",
    "        model=model,\n",
    "        messages=messages,\n",
    "        temperature=temperature, \n",
    "    )\n",
    "    return response.choices[0].message[\"content\"]\n",
    "\n",
    "for index, row in preprocessed_tweets.iterrows():\n",
    "    prompt = f\"\"\"\n",
    "        El siguiente es un tweet en español. Por favor, clasifícalo de acuerdo a las siguientes categorías:\n",
    "\n",
    "        Valencia: [positivo, negativo, neutral]\n",
    "        Emoción: [felicidad, tristeza, enojo, miedo, sorpresa, disgusto, neutral]\n",
    "        Postura: [aprobación, desaprobación, esperanza, desilusión, indiferencia, condianza, desconfianza]\n",
    "        Tono: [agresivo, pasivo, asertivo, escéptico, irónico, humorístico, informativo, serio, inspiridor, otro]\n",
    "        Tema: [política, economía, deportes, entretenimiento, tecnología, ciencia, salud, educación, religión, cultura, medio ambiente, otro]\n",
    "\n",
    "        Además, evalúalo utilizando una escala continua con rango de 0 a 1 en las siguientes dimensiones:\n",
    "\n",
    "        Amabilidad: [0.0 - 1.0]\n",
    "        Legibilidad: [0.0 - 1.0]\n",
    "        Controversialidad: [0.0 - 1.0]\n",
    "        Informatividad: [0.0 - 1.0]\n",
    "        Espectro político: [0.0 - 1.0] (0 = izquierda, 1 = derecha)\n",
    "\n",
    "        Formatea tu respuesta como un diccionario de Python con las siguientes llaves:\n",
    "\n",
    "        [\n",
    "            {prefix}valencia, {prefix}emocion, {prefix}postura, {prefix}tono, {prefix}tema, {prefix}amabilidad, \n",
    "            {prefix}legibilidad, {prefix}controversialidad, {prefix}informatividad, {prefix}espectro_politico\n",
    "        ]\n",
    "\n",
    "        Tweet: '''{row['tw_texto']}'''\n",
    "        \"\"\"\n",
    "\n",
    "    response = gpt_features(prompt)\n",
    "    response = json.loads(response)\n",
    "    response = pd.DataFrame([response])\n",
    "    collector.append(response)\n",
    "    time.sleep(1)\n",
    "\n",
    "new_features = pd.concat(collector, axis=0, ignore_index=True)\n",
    "expanded_tweets = pd.concat([preprocessed_tweets, new_features], axis=1)"
   ]
  },
  {
   "cell_type": "code",
   "execution_count": null,
   "metadata": {},
   "outputs": [],
   "source": [
    "expanded_tweets.head()"
   ]
  },
  {
   "cell_type": "code",
   "execution_count": null,
   "metadata": {},
   "outputs": [],
   "source": [
    "expanded_tweets.to_csv('expanded_tweets.csv', index=False)"
   ]
  },
  {
   "cell_type": "code",
   "execution_count": null,
   "metadata": {},
   "outputs": [],
   "source": []
  }
 ],
 "metadata": {
  "kernelspec": {
   "display_name": "ml39",
   "language": "python",
   "name": "python3"
  },
  "language_info": {
   "codemirror_mode": {
    "name": "ipython",
    "version": 3
   },
   "file_extension": ".py",
   "mimetype": "text/x-python",
   "name": "python",
   "nbconvert_exporter": "python",
   "pygments_lexer": "ipython3",
   "version": "3.10.11"
  },
  "orig_nbformat": 4
 },
 "nbformat": 4,
 "nbformat_minor": 2
}
