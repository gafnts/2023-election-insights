{
 "cells": [
  {
   "attachments": {},
   "cell_type": "markdown",
   "metadata": {},
   "source": [
    "# Development\n",
    "\n",
    "Agreement and policy: https://developer.twitter.com/en/developer-terms/agreement-and-policy"
   ]
  },
  {
   "cell_type": "code",
   "execution_count": null,
   "metadata": {},
   "outputs": [],
   "source": [
    "import os\n",
    "os.chdir('..')\n",
    "\n",
    "from modules import TwitterDataCleaner, get_tweets"
   ]
  },
  {
   "attachments": {},
   "cell_type": "markdown",
   "metadata": {},
   "source": [
    "## Get tweets"
   ]
  },
  {
   "cell_type": "code",
   "execution_count": null,
   "metadata": {},
   "outputs": [],
   "source": [
    "query = 'sandra torres'\n",
    "start_time = \"2023-04-26T00:00:00Z\" \n",
    "end_time = \"2023-04-30T00:00:00Z\" \n",
    "max_results = 10\n",
    "\n",
    "tweets_call = get_tweets(\n",
    "    query=query,\n",
    "    start_time=start_time,\n",
    "    end_time=end_time,\n",
    "    max_results=max_results,\n",
    ")\n",
    "\n",
    "data_cleaner = TwitterDataCleaner(tweets_call)\n",
    "tweets, users = data_cleaner.run()"
   ]
  },
  {
   "cell_type": "code",
   "execution_count": null,
   "metadata": {},
   "outputs": [],
   "source": [
    "tweets.head()"
   ]
  },
  {
   "attachments": {},
   "cell_type": "markdown",
   "metadata": {},
   "source": [
    "## Zero-shot feature extraction with GTP-3.5"
   ]
  },
  {
   "cell_type": "code",
   "execution_count": null,
   "metadata": {},
   "outputs": [],
   "source": [
    "import re\n",
    "import json\n",
    "import openai\n",
    "import pandas as pd\n",
    "from authenticators import OpenAIAuthenticator\n",
    "\n",
    "gpt = OpenAIAuthenticator()\n",
    "openai.api_key = gpt.api_key"
   ]
  },
  {
   "cell_type": "code",
   "execution_count": null,
   "metadata": {},
   "outputs": [],
   "source": [
    "def preprocess_text(text):\n",
    "    # Remove URLs\n",
    "    url_pattern = re.compile(r'http[s]?://(?:[a-zA-Z]|[0-9]|[$-_@.&+]|[!*\\\\(\\\\),]|(?:%[0-9a-fA-F][0-9a-fA-F]))+')\n",
    "    text = url_pattern.sub('', text)\n",
    "\n",
    "    # Remove emojis\n",
    "    emoji_pattern = re.compile(\n",
    "        \"[\"\n",
    "        u\"\\U0001F600-\\U0001F64F\"  # Emoticons\n",
    "        u\"\\U0001F300-\\U0001F5FF\"  # Symbols & pictographs\n",
    "        u\"\\U0001F680-\\U0001F6FF\"  # Transport & map symbols\n",
    "        u\"\\U0001F1E0-\\U0001F1FF\"  # Flags (iOS)\n",
    "        u\"\\U00002702-\\U000027B0\"\n",
    "        u\"\\U000024C2-\\U0001F251\"\n",
    "        \"]+\",\n",
    "        flags=re.UNICODE,\n",
    "    )\n",
    "    text = emoji_pattern.sub('', text)\n",
    "\n",
    "    # Remove newline characters\n",
    "    text = text.replace('\\n', ' ')\n",
    "\n",
    "    return text"
   ]
  },
  {
   "cell_type": "code",
   "execution_count": null,
   "metadata": {},
   "outputs": [],
   "source": [
    "def get_completion(prompt, model=\"gpt-3.5-turbo\", temperature=0): \n",
    "    messages = [{\"role\": \"user\", \"content\": prompt}]\n",
    "    response = openai.ChatCompletion.create(\n",
    "        model=model,\n",
    "        messages=messages,\n",
    "        temperature=temperature, \n",
    "    )\n",
    "    return response.choices[0].message[\"content\"]"
   ]
  },
  {
   "cell_type": "code",
   "execution_count": null,
   "metadata": {},
   "outputs": [],
   "source": [
    "example = tweets.tw_texto[9]\n",
    "\n",
    "tweet = preprocess_text(example)\n",
    "tweet"
   ]
  },
  {
   "cell_type": "code",
   "execution_count": null,
   "metadata": {},
   "outputs": [],
   "source": [
    "prompt = f\"\"\"\n",
    "El siguiente es un tweet en español. Por favor, clasificalo de acuerdo a las siguientes categorías:\n",
    "\n",
    "Valencia: [positivo, negativo, neutral]\n",
    "Emoción: [felicidad, tristeza, enojo, miedo, sorpresa, disgusto, neutral]\n",
    "Postura: [aprobación, desaprobación, esperanza, desilusión, indiferencia, condianza, desconfianza]\n",
    "Tono: [agresivo, pasivo, asertivo, escéptico, irónico, humorístico, informativo, serio, inspiridor, otro]\n",
    "Tema: [política, economía, deportes, entretenimiento, tecnología, ciencia, salud, educación, religión, cultura, medio ambiente, otro]\n",
    "\n",
    "Además, evalúalo utilizando una escala continua con rango de 0 a 1 en las siguientes dimensiones:\n",
    "\n",
    "Amabilidad: [0.0 - 1.0]\n",
    "Legibilidad: [0.0 - 1.0]\n",
    "Controversialidad: [0.0 - 1.0]\n",
    "Informatividad: [0.0 - 1.0]\n",
    "Espectro político: [0.0 - 1.0] (0 = izquierda, 1 = derecha)\n",
    "\n",
    "Formatea tu respuesta como un diccionario de Python con las siguientes llaves:\n",
    "\n",
    "[valencia, emocion, postura, tono, tema, amabilidad, legibilidad, controversialidad, informatividad]\n",
    "\n",
    "Tweet: '''{tweet}'''\n",
    "\"\"\""
   ]
  },
  {
   "cell_type": "code",
   "execution_count": null,
   "metadata": {},
   "outputs": [],
   "source": [
    "test = get_completion(prompt, temperature=0)\n",
    "dict = json.loads(test)\n",
    "dict"
   ]
  },
  {
   "cell_type": "code",
   "execution_count": null,
   "metadata": {},
   "outputs": [],
   "source": [
    "pd.DataFrame(dict, index=[0])"
   ]
  }
 ],
 "metadata": {
  "kernelspec": {
   "display_name": "ml39",
   "language": "python",
   "name": "python3"
  },
  "language_info": {
   "codemirror_mode": {
    "name": "ipython",
    "version": 3
   },
   "file_extension": ".py",
   "mimetype": "text/x-python",
   "name": "python",
   "nbconvert_exporter": "python",
   "pygments_lexer": "ipython3",
   "version": "3.10.11"
  },
  "orig_nbformat": 4
 },
 "nbformat": 4,
 "nbformat_minor": 2
}
